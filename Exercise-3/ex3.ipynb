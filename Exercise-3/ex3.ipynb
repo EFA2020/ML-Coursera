{
 "cells": [
  {
   "cell_type": "markdown",
   "metadata": {},
   "source": [
    "## Programming Exercise 3: Multi-class Classification and Neural Networks\n",
    "#### Author - Rishabh Jain"
   ]
  },
  {
   "cell_type": "code",
   "execution_count": 1,
   "metadata": {},
   "outputs": [],
   "source": [
    "import matplotlib.pyplot as plt\n",
    "import seaborn as sns\n",
    "import pandas as pd\n",
    "import numpy as np\n",
    "import sys\n",
    "%matplotlib inline\n",
    "\n",
    "from scipy.io import loadmat"
   ]
  },
  {
   "cell_type": "markdown",
   "metadata": {},
   "source": [
    "### 1&nbsp;&nbsp;&nbsp;&nbsp;Multi-class Classification\n",
    "\n",
    "##### Problem Statement\n",
    "For this exercise, we will use **logistic regression** and **neural networks** to recognize handwritten digits (from 0 to 9). In this part of the exercise we will extend our previous implementation of logistic regression and apply it to one-vs-all classification.\n",
    "\n",
    "#### 1.1&nbsp;&nbsp;&nbsp;&nbsp;Dataset\n",
    "We are given a dataset in ex3data.mat that contains 5000 training examples of handwritten digits, where each training example is a 20 X 20 pixel grayscale image of the digit. Each pixel is repsented by a floating point number indicating the grayscale intensity at that location.  \n",
    "\n",
    "This 20 by 20 pixel grid is \"unrolled\" into 400-dimensional vector. Each of these training examples become a single row in our dataset. This gives us a 5000 X 400 design matrix X where every row is a training example for a handwritten digit image. The second part of the training set is a 5000-dimnesional vectory y that contains labels for the training set. Labels range from 1 to 10 where 10 reprsents digit '0'."
   ]
  },
  {
   "cell_type": "code",
   "execution_count": 2,
   "metadata": {},
   "outputs": [
    {
     "name": "stdout",
     "output_type": "stream",
     "text": [
      "__header__\n",
      "__version__\n",
      "__globals__\n",
      "X\n",
      "y\n"
     ]
    }
   ],
   "source": [
    "# Loading Mat file\n",
    "mat=loadmat('./ex3data1.mat')\n",
    "print(*mat.keys(),sep='\\n')"
   ]
  },
  {
   "cell_type": "code",
   "execution_count": 3,
   "metadata": {
    "scrolled": true
   },
   "outputs": [
    {
     "name": "stdout",
     "output_type": "stream",
     "text": [
      "TRAINING DATASET SHAPE : 5000 X 401\n"
     ]
    },
    {
     "data": {
      "text/html": [
       "<div>\n",
       "<style scoped>\n",
       "    .dataframe tbody tr th:only-of-type {\n",
       "        vertical-align: middle;\n",
       "    }\n",
       "\n",
       "    .dataframe tbody tr th {\n",
       "        vertical-align: top;\n",
       "    }\n",
       "\n",
       "    .dataframe thead th {\n",
       "        text-align: right;\n",
       "    }\n",
       "</style>\n",
       "<table border=\"1\" class=\"dataframe\">\n",
       "  <thead>\n",
       "    <tr style=\"text-align: right;\">\n",
       "      <th></th>\n",
       "      <th>x1</th>\n",
       "      <th>x2</th>\n",
       "      <th>x3</th>\n",
       "      <th>x4</th>\n",
       "      <th>x5</th>\n",
       "      <th>x6</th>\n",
       "      <th>x7</th>\n",
       "      <th>x8</th>\n",
       "      <th>x9</th>\n",
       "      <th>x10</th>\n",
       "      <th>...</th>\n",
       "      <th>x392</th>\n",
       "      <th>x393</th>\n",
       "      <th>x394</th>\n",
       "      <th>x395</th>\n",
       "      <th>x396</th>\n",
       "      <th>x397</th>\n",
       "      <th>x398</th>\n",
       "      <th>x399</th>\n",
       "      <th>x400</th>\n",
       "      <th>y</th>\n",
       "    </tr>\n",
       "  </thead>\n",
       "  <tbody>\n",
       "    <tr>\n",
       "      <th>946</th>\n",
       "      <td>0.0</td>\n",
       "      <td>0.0</td>\n",
       "      <td>0.0</td>\n",
       "      <td>0.0</td>\n",
       "      <td>0.0</td>\n",
       "      <td>0.0</td>\n",
       "      <td>0.0</td>\n",
       "      <td>0.0</td>\n",
       "      <td>0.0</td>\n",
       "      <td>0.0</td>\n",
       "      <td>...</td>\n",
       "      <td>0.0</td>\n",
       "      <td>0.0</td>\n",
       "      <td>0.0</td>\n",
       "      <td>0.0</td>\n",
       "      <td>0.0</td>\n",
       "      <td>0.0</td>\n",
       "      <td>0.0</td>\n",
       "      <td>0.0</td>\n",
       "      <td>0.0</td>\n",
       "      <td>1</td>\n",
       "    </tr>\n",
       "    <tr>\n",
       "      <th>1573</th>\n",
       "      <td>0.0</td>\n",
       "      <td>0.0</td>\n",
       "      <td>0.0</td>\n",
       "      <td>0.0</td>\n",
       "      <td>0.0</td>\n",
       "      <td>0.0</td>\n",
       "      <td>0.0</td>\n",
       "      <td>0.0</td>\n",
       "      <td>0.0</td>\n",
       "      <td>0.0</td>\n",
       "      <td>...</td>\n",
       "      <td>0.0</td>\n",
       "      <td>0.0</td>\n",
       "      <td>0.0</td>\n",
       "      <td>0.0</td>\n",
       "      <td>0.0</td>\n",
       "      <td>0.0</td>\n",
       "      <td>0.0</td>\n",
       "      <td>0.0</td>\n",
       "      <td>0.0</td>\n",
       "      <td>3</td>\n",
       "    </tr>\n",
       "    <tr>\n",
       "      <th>4887</th>\n",
       "      <td>0.0</td>\n",
       "      <td>0.0</td>\n",
       "      <td>0.0</td>\n",
       "      <td>0.0</td>\n",
       "      <td>0.0</td>\n",
       "      <td>0.0</td>\n",
       "      <td>0.0</td>\n",
       "      <td>0.0</td>\n",
       "      <td>0.0</td>\n",
       "      <td>0.0</td>\n",
       "      <td>...</td>\n",
       "      <td>0.0</td>\n",
       "      <td>0.0</td>\n",
       "      <td>0.0</td>\n",
       "      <td>0.0</td>\n",
       "      <td>0.0</td>\n",
       "      <td>0.0</td>\n",
       "      <td>0.0</td>\n",
       "      <td>0.0</td>\n",
       "      <td>0.0</td>\n",
       "      <td>9</td>\n",
       "    </tr>\n",
       "    <tr>\n",
       "      <th>1629</th>\n",
       "      <td>0.0</td>\n",
       "      <td>0.0</td>\n",
       "      <td>0.0</td>\n",
       "      <td>0.0</td>\n",
       "      <td>0.0</td>\n",
       "      <td>0.0</td>\n",
       "      <td>0.0</td>\n",
       "      <td>0.0</td>\n",
       "      <td>0.0</td>\n",
       "      <td>0.0</td>\n",
       "      <td>...</td>\n",
       "      <td>0.0</td>\n",
       "      <td>0.0</td>\n",
       "      <td>0.0</td>\n",
       "      <td>0.0</td>\n",
       "      <td>0.0</td>\n",
       "      <td>0.0</td>\n",
       "      <td>0.0</td>\n",
       "      <td>0.0</td>\n",
       "      <td>0.0</td>\n",
       "      <td>3</td>\n",
       "    </tr>\n",
       "    <tr>\n",
       "      <th>433</th>\n",
       "      <td>0.0</td>\n",
       "      <td>0.0</td>\n",
       "      <td>0.0</td>\n",
       "      <td>0.0</td>\n",
       "      <td>0.0</td>\n",
       "      <td>0.0</td>\n",
       "      <td>0.0</td>\n",
       "      <td>0.0</td>\n",
       "      <td>0.0</td>\n",
       "      <td>0.0</td>\n",
       "      <td>...</td>\n",
       "      <td>0.0</td>\n",
       "      <td>0.0</td>\n",
       "      <td>0.0</td>\n",
       "      <td>0.0</td>\n",
       "      <td>0.0</td>\n",
       "      <td>0.0</td>\n",
       "      <td>0.0</td>\n",
       "      <td>0.0</td>\n",
       "      <td>0.0</td>\n",
       "      <td>0</td>\n",
       "    </tr>\n",
       "  </tbody>\n",
       "</table>\n",
       "<p>5 rows × 401 columns</p>\n",
       "</div>"
      ],
      "text/plain": [
       "       x1   x2   x3   x4   x5   x6   x7   x8   x9  x10 ...  x392  x393  x394  \\\n",
       "946   0.0  0.0  0.0  0.0  0.0  0.0  0.0  0.0  0.0  0.0 ...   0.0   0.0   0.0   \n",
       "1573  0.0  0.0  0.0  0.0  0.0  0.0  0.0  0.0  0.0  0.0 ...   0.0   0.0   0.0   \n",
       "4887  0.0  0.0  0.0  0.0  0.0  0.0  0.0  0.0  0.0  0.0 ...   0.0   0.0   0.0   \n",
       "1629  0.0  0.0  0.0  0.0  0.0  0.0  0.0  0.0  0.0  0.0 ...   0.0   0.0   0.0   \n",
       "433   0.0  0.0  0.0  0.0  0.0  0.0  0.0  0.0  0.0  0.0 ...   0.0   0.0   0.0   \n",
       "\n",
       "      x395  x396  x397  x398  x399  x400  y  \n",
       "946    0.0   0.0   0.0   0.0   0.0   0.0  1  \n",
       "1573   0.0   0.0   0.0   0.0   0.0   0.0  3  \n",
       "4887   0.0   0.0   0.0   0.0   0.0   0.0  9  \n",
       "1629   0.0   0.0   0.0   0.0   0.0   0.0  3  \n",
       "433    0.0   0.0   0.0   0.0   0.0   0.0  0  \n",
       "\n",
       "[5 rows x 401 columns]"
      ]
     },
     "execution_count": 3,
     "metadata": {},
     "output_type": "execute_result"
    }
   ],
   "source": [
    "# Loading data from mat to Dataframe\n",
    "m,n=mat['X'].shape\n",
    "\n",
    "data=pd.DataFrame()\n",
    "for i in range(n):\n",
    "    data[f'x{i+1}']=mat['X'].T[i]\n",
    "\n",
    "# Converting label 10 to label 0\n",
    "mat['y'][mat['y']==10]=0    \n",
    "data['y']=mat['y']\n",
    "\n",
    "print('TRAINING DATASET SHAPE : {0} X {1}'.format(*data.shape))\n",
    "data.sample(5)"
   ]
  },
  {
   "cell_type": "markdown",
   "metadata": {},
   "source": [
    "#### 1.2&nbsp;&nbsp;&nbsp;&nbsp;Visualizing the data\n",
    "We will begin by visualizing a subset of the training set. We will randomly select 100 rows from X. This function maps each row to a 20 X 20 pixel image and displays together."
   ]
  },
  {
   "cell_type": "code",
   "execution_count": 4,
   "metadata": {},
   "outputs": [],
   "source": [
    "def displayData(X):\n",
    "    m,n=X.shape\n",
    "    width=int(np.sqrt(n))\n",
    "    height=int(n/width)\n",
    "    rows=int(np.floor(np.sqrt(m)))\n",
    "    cols=int(np.ceil(m/rows))\n",
    "    totalWidth=cols+cols*width\n",
    "    displayArray=np.zeros((1,totalWidth))\n",
    "    rowPadding=np.ones((1,totalWidth))\n",
    "    colPadding=np.ones((height,1))\n",
    "    index=0\n",
    "    for i in range(rows):\n",
    "        row=colPadding*0\n",
    "        for j in range(cols):\n",
    "            if index<m:\n",
    "                x=X[index].reshape((width,height)).T\n",
    "                index=index+1\n",
    "            else:\n",
    "                x=np.zeros((width,height)).T\n",
    "            row=np.column_stack((row,x))\n",
    "            if j<cols-1:\n",
    "                row=np.column_stack((row,colPadding))\n",
    "        displayArray=np.row_stack((displayArray,row))\n",
    "        if i<rows-1:\n",
    "            displayArray=np.row_stack((displayArray,rowPadding))\n",
    "    displayArray=np.row_stack((displayArray,rowPadding*0))\n",
    "    plt.imshow(displayArray)\n",
    "    plt.axis('off')"
   ]
  },
  {
   "cell_type": "code",
   "execution_count": 5,
   "metadata": {},
   "outputs": [
    {
     "data": {
      "image/png": "[encoded data removed]",
      "text/plain": [
       "<Figure size 432x288 with 1 Axes>"
      ]
     },
     "metadata": {
      "needs_background": "light"
     },
     "output_type": "display_data"
    }
   ],
   "source": [
    "displayData(data.sample(100).iloc[:,:-1].values)"
   ]
  },
  {
   "cell_type": "markdown",
   "metadata": {},
   "source": [
    "#### 1.3&nbsp;&nbsp;&nbsp;&nbsp;Vectorizing Logistic Regression\n",
    "We will be using mutiple one-vs-all logistic regression models to build multi-class classifier. Since there are 10 classes, we wil need to train 10 separate logistic regression. To make this training efficient, it is important to ensure that our code is well vectorized. In this section, we will implement a vectorized version of logistic regression that does not employ any for loops.\n",
    "\n",
    "**Formulae :**\n",
    "\n",
    "$$ h_\\theta(x)=g(\\theta^Tx) $$\n",
    "$$ g(z)=\\frac{1}{1+e^{-z}} $$\n",
    "$$ J(\\theta)= \\frac{-1}{m}\\sum_{i=0}^m[y^{(i)}log(h_\\theta(x^{(i)}))+(1-y^{(i)})log(1-h_\\theta(x^{(i)})]+\\frac{\\lambda}{2m}\\sum_{j=1}^n\\theta_j^2$$\n",
    "$$ \\theta_j:=\\theta_j-\\frac{\\alpha}{m}(\\sum_{i=0}^m(h_\\theta(x^{(i)})-y^{(i)})x_j^{(i)}+\\lambda\\sum_{j=1}^n\\theta_j) $$\n",
    "\n",
    "**From the previous notebook(Exercise-2), all the functions are already vectorized.**"
   ]
  },
  {
   "cell_type": "code",
   "execution_count": 6,
   "metadata": {},
   "outputs": [],
   "source": [
    "def sigmoid(z):\n",
    "    sigma=1/(1+np.exp(-z))\n",
    "    return sigma"
   ]
  },
  {
   "cell_type": "code",
   "execution_count": 7,
   "metadata": {},
   "outputs": [],
   "source": [
    "def predict(X,theta):\n",
    "    '''Predicts by applying logistic function on linear model'''\n",
    "    z=np.dot(X,theta.T)\n",
    "    h=sigmoid(z)\n",
    "    return h"
   ]
  },
  {
   "cell_type": "code",
   "execution_count": 8,
   "metadata": {},
   "outputs": [],
   "source": [
    "def computeCost(h,y):\n",
    "    '''Computes the cost using Cross Entropy function'''\n",
    "    m=y.shape[0]\n",
    "    J=(-1/m)*np.sum(np.multiply(y,np.log(h))+np.multiply(1-y,np.log(1-h)))\n",
    "    return J"
   ]
  },
  {
   "cell_type": "code",
   "execution_count": 9,
   "metadata": {},
   "outputs": [],
   "source": [
    "def regularizedGradientDescent(X,y,theta,alpha,lmbda,iterations):\n",
    "    '''Minimizes the cost function using Gradient Descent Optimization Algorithm'''\n",
    "    m=X.shape[0]\n",
    "    jHistory=[]\n",
    "    for i in range(iterations):\n",
    "        h=predict(X,theta)\n",
    "        # Computing cost\n",
    "        J=computeCost(h,y)\n",
    "        # Adding the regularized term\n",
    "        J=J+(lmbda/(2*m))*np.sum(np.power(theta[:,1:],2))\n",
    "        jHistory.append(J)\n",
    "        # Parameters update rule\n",
    "        gradient=(alpha/m)*(np.dot((h-y).T,X))\n",
    "        # Adding the regularized term\n",
    "        gradient=gradient+(alpha/m)*lmbda*np.sum(theta[:,1:])\n",
    "        theta=theta-gradient\n",
    "    return (theta,jHistory)"
   ]
  },
  {
   "cell_type": "markdown",
   "metadata": {},
   "source": [
    "#### 1.4&nbsp;&nbsp;&nbsp;&nbsp;One-vs-all Classification\n",
    "In this part of the exercise, **we will implement One-vs-all classification by training multiple logistic regression classifiers, one for each of K classes in our dataset.**"
   ]
  },
  {
   "cell_type": "code",
   "execution_count": 10,
   "metadata": {},
   "outputs": [],
   "source": [
    "def oneVsAll(X,Y,alpha,lmbda,iterations):\n",
    "    '''Returns all the classifier parameters in a matrix with shape of classes X features'''\n",
    "    m,n=X.shape\n",
    "    # Initializing theta\n",
    "    intialTheta=np.zeros(shape=(1,n))\n",
    "    labels=np.unique(Y)\n",
    "    labels.sort()\n",
    "    thetas=np.zeros(shape=(len(labels),n))\n",
    "    i=0\n",
    "    print('Training classifiers...\\n')\n",
    "    for label in labels:\n",
    "        y=np.zeros(shape=(m,1))\n",
    "        y[Y==label]=1\n",
    "        theta,jHistory=regularizedGradientDescent(X,y,intialTheta,alpha,lmbda,iterations)\n",
    "        thetas[i,:]=theta\n",
    "        print(f'For classifier{label} , J = {jHistory[iterations-1]:.3f}')\n",
    "        i+=1\n",
    "    return thetas"
   ]
  },
  {
   "cell_type": "code",
   "execution_count": 11,
   "metadata": {},
   "outputs": [
    {
     "name": "stdout",
     "output_type": "stream",
     "text": [
      "Training classifiers...\n",
      "\n",
      "For classifier0 , J = 0.014\n",
      "For classifier1 , J = 0.022\n",
      "For classifier2 , J = 0.061\n",
      "For classifier3 , J = 0.065\n",
      "For classifier4 , J = 0.046\n",
      "For classifier5 , J = 0.066\n",
      "For classifier6 , J = 0.029\n",
      "For classifier7 , J = 0.040\n",
      "For classifier8 , J = 0.086\n",
      "For classifier9 , J = 0.081\n"
     ]
    }
   ],
   "source": [
    "m=data.shape[0]\n",
    "\n",
    "X=data.values[:,:-1]\n",
    "# Adding intercept term to the design matrix\n",
    "intercept=np.ones(shape=(m,1))\n",
    "X=np.column_stack((intercept,X))\n",
    "y=data['y'].values.reshape((m,1))\n",
    "\n",
    "alpha=1\n",
    "lmbda=0.1\n",
    "iterations=3000\n",
    "\n",
    "thetas=oneVsAll(X,y,alpha,lmbda,iterations)"
   ]
  },
  {
   "cell_type": "markdown",
   "metadata": {},
   "source": [
    "#### 1.4.1&nbsp;&nbsp;&nbsp;&nbsp;One-vs-all Prediction\n",
    "After training One-vs-all classifier, we can use it to predict the digit contained in a given image. For each input, we should compute the 'probability' that it belongs to each class using the trained logistic regression classifiers."
   ]
  },
  {
   "cell_type": "code",
   "execution_count": 12,
   "metadata": {},
   "outputs": [],
   "source": [
    "def predictOneVsAll(thetas,X):\n",
    "    '''Predic the label for a trained One-vs-all classifier. The labels are in the range 0 to 9'''\n",
    "    h=predict(X,thetas)\n",
    "    labels=h.argmax(axis=1)\n",
    "    return labels.reshape((X.shape[0],1))"
   ]
  },
  {
   "cell_type": "code",
   "execution_count": 13,
   "metadata": {},
   "outputs": [],
   "source": [
    "def calculateAccuracy(h,y):\n",
    "    '''Calculates the accuray between the target and prediction'''\n",
    "    m=y.shape[0]\n",
    "    unique,counts=np.unique(h==y,return_counts=True)\n",
    "    dic=dict(zip(unique,counts))\n",
    "    accuracy=(dic[True]/m)*100\n",
    "    return accuracy"
   ]
  },
  {
   "cell_type": "code",
   "execution_count": 14,
   "metadata": {},
   "outputs": [
    {
     "name": "stdout",
     "output_type": "stream",
     "text": [
      "TRAINING ACCURACY : 94.18\n"
     ]
    }
   ],
   "source": [
    "h=predictOneVsAll(thetas,X)\n",
    "accuracy=calculateAccuracy(h,y)\n",
    "print(f'TRAINING ACCURACY : {accuracy:.2f}')"
   ]
  }
 ],
 "metadata": {
  "kernelspec": {
   "display_name": "Python 3",
   "language": "python",
   "name": "python3"
  },
  "language_info": {
   "codemirror_mode": {
    "name": "ipython",
    "version": 3
   },
   "file_extension": ".py",
   "mimetype": "text/x-python",
   "name": "python",
   "nbconvert_exporter": "python",
   "pygments_lexer": "ipython3",
   "version": "3.7.1"
  }
 },
 "nbformat": 4,
 "nbformat_minor": 2
}
