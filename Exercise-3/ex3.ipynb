{
 "cells": [
  {
   "cell_type": "markdown",
   "metadata": {},
   "source": [
    "## Programming Exercise 3: Multi-class Classification and Neural Networks\n",
    "#### Author - Rishabh Jain"
   ]
  },
  {
   "cell_type": "code",
   "execution_count": 1,
   "metadata": {},
   "outputs": [],
   "source": [
    "import matplotlib.pyplot as plt\n",
    "import seaborn as sns\n",
    "import pandas as pd\n",
    "import numpy as np\n",
    "import PIL as pil\n",
    "%matplotlib inline\n",
    "\n",
    "from scipy.io import loadmat"
   ]
  },
  {
   "cell_type": "markdown",
   "metadata": {},
   "source": [
    "### 1&nbsp;&nbsp;&nbsp;&nbsp;Multi-class Classification\n",
    "\n",
    "##### Problem Statement\n",
    "For this exercise, we will use **logistic regression** and **neural networks** to recognize handwritten digits (from 0 to 9). In this part of the exercise we will extend our previous implementation of logistic regression and apply it to one-vs-all classification.\n",
    "\n",
    "#### 1.1&nbsp;&nbsp;&nbsp;&nbsp;Dataset\n",
    "We are given a dataset in ex3data.mat that contains 5000 training examples of handwritten digits, where each training example is a 20 X 20 pixel grayscale image of the digit. Each pixel is repsented by a floating point number indicating the grayscale intensity at that location.  \n",
    "\n",
    "This 20 by 20 pixel grid is \"unrolled\" into 400-dimensional vector. Each of these training examples become a single row in our dataset. This gives us a 5000 X 400 design matrix X where every row is a training example for a handwritten digit image. The second part of the training set is a 5000-dimnesional vectory y that contains labels for the training set. Labels range from 1 to 10 where 10 reprsents digit '0'."
   ]
  },
  {
   "cell_type": "code",
   "execution_count": 2,
   "metadata": {},
   "outputs": [
    {
     "name": "stdout",
     "output_type": "stream",
     "text": [
      "__header__\n",
      "__version__\n",
      "__globals__\n",
      "X\n",
      "y\n"
     ]
    }
   ],
   "source": [
    "# Loading Mat file\n",
    "mat=loadmat('./ex3data1.mat')\n",
    "print(*mat.keys(),sep='\\n')"
   ]
  },
  {
   "cell_type": "code",
   "execution_count": 3,
   "metadata": {
    "scrolled": true
   },
   "outputs": [
    {
     "name": "stdout",
     "output_type": "stream",
     "text": [
      "TRAINING DATASET SHAPE : 5000 X 401\n"
     ]
    },
    {
     "data": {
      "text/html": [
       "<div>\n",
       "<style scoped>\n",
       "    .dataframe tbody tr th:only-of-type {\n",
       "        vertical-align: middle;\n",
       "    }\n",
       "\n",
       "    .dataframe tbody tr th {\n",
       "        vertical-align: top;\n",
       "    }\n",
       "\n",
       "    .dataframe thead th {\n",
       "        text-align: right;\n",
       "    }\n",
       "</style>\n",
       "<table border=\"1\" class=\"dataframe\">\n",
       "  <thead>\n",
       "    <tr style=\"text-align: right;\">\n",
       "      <th></th>\n",
       "      <th>x1</th>\n",
       "      <th>x2</th>\n",
       "      <th>x3</th>\n",
       "      <th>x4</th>\n",
       "      <th>x5</th>\n",
       "      <th>x6</th>\n",
       "      <th>x7</th>\n",
       "      <th>x8</th>\n",
       "      <th>x9</th>\n",
       "      <th>x10</th>\n",
       "      <th>...</th>\n",
       "      <th>x392</th>\n",
       "      <th>x393</th>\n",
       "      <th>x394</th>\n",
       "      <th>x395</th>\n",
       "      <th>x396</th>\n",
       "      <th>x397</th>\n",
       "      <th>x398</th>\n",
       "      <th>x399</th>\n",
       "      <th>x400</th>\n",
       "      <th>y</th>\n",
       "    </tr>\n",
       "  </thead>\n",
       "  <tbody>\n",
       "    <tr>\n",
       "      <th>3604</th>\n",
       "      <td>0.0</td>\n",
       "      <td>0.0</td>\n",
       "      <td>0.0</td>\n",
       "      <td>0.0</td>\n",
       "      <td>0.0</td>\n",
       "      <td>0.0</td>\n",
       "      <td>0.0</td>\n",
       "      <td>0.0</td>\n",
       "      <td>0.0</td>\n",
       "      <td>0.0</td>\n",
       "      <td>...</td>\n",
       "      <td>0.0</td>\n",
       "      <td>0.0</td>\n",
       "      <td>0.0</td>\n",
       "      <td>0.0</td>\n",
       "      <td>0.0</td>\n",
       "      <td>0.0</td>\n",
       "      <td>0.0</td>\n",
       "      <td>0.0</td>\n",
       "      <td>0.0</td>\n",
       "      <td>7</td>\n",
       "    </tr>\n",
       "    <tr>\n",
       "      <th>3115</th>\n",
       "      <td>0.0</td>\n",
       "      <td>0.0</td>\n",
       "      <td>0.0</td>\n",
       "      <td>0.0</td>\n",
       "      <td>0.0</td>\n",
       "      <td>0.0</td>\n",
       "      <td>0.0</td>\n",
       "      <td>0.0</td>\n",
       "      <td>0.0</td>\n",
       "      <td>0.0</td>\n",
       "      <td>...</td>\n",
       "      <td>0.0</td>\n",
       "      <td>0.0</td>\n",
       "      <td>0.0</td>\n",
       "      <td>0.0</td>\n",
       "      <td>0.0</td>\n",
       "      <td>0.0</td>\n",
       "      <td>0.0</td>\n",
       "      <td>0.0</td>\n",
       "      <td>0.0</td>\n",
       "      <td>6</td>\n",
       "    </tr>\n",
       "    <tr>\n",
       "      <th>2267</th>\n",
       "      <td>0.0</td>\n",
       "      <td>0.0</td>\n",
       "      <td>0.0</td>\n",
       "      <td>0.0</td>\n",
       "      <td>0.0</td>\n",
       "      <td>0.0</td>\n",
       "      <td>0.0</td>\n",
       "      <td>0.0</td>\n",
       "      <td>0.0</td>\n",
       "      <td>0.0</td>\n",
       "      <td>...</td>\n",
       "      <td>0.0</td>\n",
       "      <td>0.0</td>\n",
       "      <td>0.0</td>\n",
       "      <td>0.0</td>\n",
       "      <td>0.0</td>\n",
       "      <td>0.0</td>\n",
       "      <td>0.0</td>\n",
       "      <td>0.0</td>\n",
       "      <td>0.0</td>\n",
       "      <td>4</td>\n",
       "    </tr>\n",
       "    <tr>\n",
       "      <th>1641</th>\n",
       "      <td>0.0</td>\n",
       "      <td>0.0</td>\n",
       "      <td>0.0</td>\n",
       "      <td>0.0</td>\n",
       "      <td>0.0</td>\n",
       "      <td>0.0</td>\n",
       "      <td>0.0</td>\n",
       "      <td>0.0</td>\n",
       "      <td>0.0</td>\n",
       "      <td>0.0</td>\n",
       "      <td>...</td>\n",
       "      <td>0.0</td>\n",
       "      <td>0.0</td>\n",
       "      <td>0.0</td>\n",
       "      <td>0.0</td>\n",
       "      <td>0.0</td>\n",
       "      <td>0.0</td>\n",
       "      <td>0.0</td>\n",
       "      <td>0.0</td>\n",
       "      <td>0.0</td>\n",
       "      <td>3</td>\n",
       "    </tr>\n",
       "    <tr>\n",
       "      <th>1756</th>\n",
       "      <td>0.0</td>\n",
       "      <td>0.0</td>\n",
       "      <td>0.0</td>\n",
       "      <td>0.0</td>\n",
       "      <td>0.0</td>\n",
       "      <td>0.0</td>\n",
       "      <td>0.0</td>\n",
       "      <td>0.0</td>\n",
       "      <td>0.0</td>\n",
       "      <td>0.0</td>\n",
       "      <td>...</td>\n",
       "      <td>0.0</td>\n",
       "      <td>0.0</td>\n",
       "      <td>0.0</td>\n",
       "      <td>0.0</td>\n",
       "      <td>0.0</td>\n",
       "      <td>0.0</td>\n",
       "      <td>0.0</td>\n",
       "      <td>0.0</td>\n",
       "      <td>0.0</td>\n",
       "      <td>3</td>\n",
       "    </tr>\n",
       "  </tbody>\n",
       "</table>\n",
       "<p>5 rows × 401 columns</p>\n",
       "</div>"
      ],
      "text/plain": [
       "       x1   x2   x3   x4   x5   x6   x7   x8   x9  x10 ...  x392  x393  x394  \\\n",
       "3604  0.0  0.0  0.0  0.0  0.0  0.0  0.0  0.0  0.0  0.0 ...   0.0   0.0   0.0   \n",
       "3115  0.0  0.0  0.0  0.0  0.0  0.0  0.0  0.0  0.0  0.0 ...   0.0   0.0   0.0   \n",
       "2267  0.0  0.0  0.0  0.0  0.0  0.0  0.0  0.0  0.0  0.0 ...   0.0   0.0   0.0   \n",
       "1641  0.0  0.0  0.0  0.0  0.0  0.0  0.0  0.0  0.0  0.0 ...   0.0   0.0   0.0   \n",
       "1756  0.0  0.0  0.0  0.0  0.0  0.0  0.0  0.0  0.0  0.0 ...   0.0   0.0   0.0   \n",
       "\n",
       "      x395  x396  x397  x398  x399  x400  y  \n",
       "3604   0.0   0.0   0.0   0.0   0.0   0.0  7  \n",
       "3115   0.0   0.0   0.0   0.0   0.0   0.0  6  \n",
       "2267   0.0   0.0   0.0   0.0   0.0   0.0  4  \n",
       "1641   0.0   0.0   0.0   0.0   0.0   0.0  3  \n",
       "1756   0.0   0.0   0.0   0.0   0.0   0.0  3  \n",
       "\n",
       "[5 rows x 401 columns]"
      ]
     },
     "execution_count": 3,
     "metadata": {},
     "output_type": "execute_result"
    }
   ],
   "source": [
    "# Loading data from mat to Dataframe\n",
    "m,n=mat['X'].shape\n",
    "\n",
    "data=pd.DataFrame()\n",
    "for i in range(n):\n",
    "    data[f'x{i+1}']=mat['X'].T[i]\n",
    "\n",
    "# Converting label 10 to label 0\n",
    "data['y']=mat['y']\n",
    "data.loc[data['y']==10,'y']=0\n",
    "\n",
    "print('TRAINING DATASET SHAPE : {0} X {1}'.format(*data.shape))\n",
    "data.sample(5)"
   ]
  },
  {
   "cell_type": "markdown",
   "metadata": {},
   "source": [
    "#### 1.2&nbsp;&nbsp;&nbsp;&nbsp;Visualizing the data\n",
    "We will begin by visualizing a subset of the training set. We will randomly select 100 rows from X. This function maps each row to a 20 X 20 pixel image and displays together."
   ]
  },
  {
   "cell_type": "code",
   "execution_count": 4,
   "metadata": {},
   "outputs": [],
   "source": [
    "def displayData(X):\n",
    "    m,n=X.shape\n",
    "    width=int(np.sqrt(n))\n",
    "    height=int(n/width)\n",
    "    rows=int(np.floor(np.sqrt(m)))\n",
    "    cols=int(np.ceil(m/rows))\n",
    "    totalWidth=cols+cols*width\n",
    "    displayArray=np.zeros((1,totalWidth))\n",
    "    rowPadding=np.ones((1,totalWidth))\n",
    "    colPadding=np.ones((height,1))\n",
    "    index=0\n",
    "    for i in range(rows):\n",
    "        row=colPadding*0\n",
    "        for j in range(cols):\n",
    "            if index<m:\n",
    "                x=X[index].reshape((width,height)).T\n",
    "                index=index+1\n",
    "            else:\n",
    "                x=np.zeros((width,height)).T\n",
    "            row=np.column_stack((row,x))\n",
    "            if j<cols-1:\n",
    "                row=np.column_stack((row,colPadding))\n",
    "        displayArray=np.row_stack((displayArray,row))\n",
    "        if i<rows-1:\n",
    "            displayArray=np.row_stack((displayArray,rowPadding))\n",
    "    displayArray=np.row_stack((displayArray,rowPadding*0))\n",
    "    plt.imshow(displayArray,cmap='gray')\n",
    "    plt.axis('off')"
   ]
  },
  {
   "cell_type": "code",
   "execution_count": 5,
   "metadata": {},
   "outputs": [
    {
     "data": {
      "image/png": "[encoded data removed]",
      "text/plain": [
       "<Figure size 432x288 with 1 Axes>"
      ]
     },
     "metadata": {
      "needs_background": "light"
     },
     "output_type": "display_data"
    }
   ],
   "source": [
    "displayData(data.sample(100).iloc[:,:-1].values)"
   ]
  },
  {
   "cell_type": "markdown",
   "metadata": {},
   "source": [
    "#### 1.3&nbsp;&nbsp;&nbsp;&nbsp;Vectorizing Logistic Regression\n",
    "We will be using mutiple one-vs-all logistic regression models to build multi-class classifier. Since there are 10 classes, we wil need to train 10 separate logistic regression. To make this training efficient, it is important to ensure that our code is well vectorized. In this section, we will implement a vectorized version of logistic regression that does not employ any for loops.\n",
    "\n",
    "**Formulae :**\n",
    "\n",
    "$$ h_\\theta(x)=g(\\theta^Tx) $$\n",
    "$$ g(z)=\\frac{1}{1+e^{-z}} $$\n",
    "$$ J(\\theta)= \\frac{-1}{m}\\sum_{i=0}^m[y^{(i)}log(h_\\theta(x^{(i)}))+(1-y^{(i)})log(1-h_\\theta(x^{(i)})]+\\frac{\\lambda}{2m}\\sum_{j=1}^n\\theta_j^2$$\n",
    "$$ \\theta_j:=\\theta_j-\\frac{\\alpha}{m}(\\sum_{i=0}^m(h_\\theta(x^{(i)})-y^{(i)})x_j^{(i)}+\\lambda\\sum_{j=1}^n\\theta_j) $$\n",
    "\n",
    "**From the previous notebook(Exercise-2), all the functions are already vectorized.**"
   ]
  },
  {
   "cell_type": "code",
   "execution_count": 6,
   "metadata": {},
   "outputs": [],
   "source": [
    "def sigmoid(z):\n",
    "    sigma=1/(1+np.exp(-z))\n",
    "    return sigma"
   ]
  },
  {
   "cell_type": "code",
   "execution_count": 7,
   "metadata": {},
   "outputs": [],
   "source": [
    "def predict(X,theta):\n",
    "    '''Predicts by applying logistic function on linear model'''\n",
    "    z=np.dot(X,theta.T)\n",
    "    h=sigmoid(z)\n",
    "    return h"
   ]
  },
  {
   "cell_type": "code",
   "execution_count": 8,
   "metadata": {},
   "outputs": [],
   "source": [
    "def computeCost(h,y):\n",
    "    '''Computes the cost using Cross Entropy function'''\n",
    "    m=y.shape[0]\n",
    "    J=(-1/m)*np.sum(np.multiply(y,np.log(h))+np.multiply(1-y,np.log(1-h)))\n",
    "    return J"
   ]
  },
  {
   "cell_type": "code",
   "execution_count": 9,
   "metadata": {},
   "outputs": [],
   "source": [
    "def regularizedGradientDescent(X,y,theta,alpha,lmbda,iterations):\n",
    "    '''Minimizes the cost function using Gradient Descent Optimization Algorithm'''\n",
    "    m=X.shape[0]\n",
    "    jHistory=[]\n",
    "    for i in range(iterations):\n",
    "        h=predict(X,theta)\n",
    "        # Computing cost\n",
    "        J=computeCost(h,y)\n",
    "        # Adding the regularized term\n",
    "        J=J+(lmbda/(2*m))*np.sum(np.power(theta[:,1:],2))\n",
    "        jHistory.append(J)\n",
    "        # Parameters update rule\n",
    "        gradient=(alpha/m)*(np.dot((h-y).T,X))\n",
    "        # Adding the regularized term\n",
    "        gradient=gradient+(alpha/m)*lmbda*np.sum(theta[:,1:])\n",
    "        theta=theta-gradient\n",
    "    return (theta,jHistory)"
   ]
  },
  {
   "cell_type": "markdown",
   "metadata": {},
   "source": [
    "#### 1.4&nbsp;&nbsp;&nbsp;&nbsp;One-vs-all Classification\n",
    "In this part of the exercise, **we will implement One-vs-all classification by training multiple logistic regression classifiers, one for each of K classes in our dataset.**"
   ]
  },
  {
   "cell_type": "code",
   "execution_count": 10,
   "metadata": {},
   "outputs": [],
   "source": [
    "def oneVsAll(X,Y,alpha,lmbda,iterations):\n",
    "    '''Returns all the classifier parameters in a matrix with shape of classes X features'''\n",
    "    m,n=X.shape\n",
    "    # Initializing theta\n",
    "    intialTheta=np.zeros(shape=(1,n))\n",
    "    labels=np.unique(Y)\n",
    "    thetas=np.zeros(shape=(len(labels),n))\n",
    "    i=0\n",
    "    print('Training classifiers...\\n')\n",
    "    for label in labels:\n",
    "        y=np.zeros(shape=(m,1))\n",
    "        y[Y==label]=1\n",
    "        theta,jHistory=regularizedGradientDescent(X,y,intialTheta,alpha,lmbda,iterations)\n",
    "        thetas[i,:]=theta\n",
    "        print(f'For classifier{label} , J = {jHistory[iterations-1]:.3f}')\n",
    "        i+=1\n",
    "    return thetas"
   ]
  },
  {
   "cell_type": "code",
   "execution_count": 11,
   "metadata": {},
   "outputs": [
    {
     "name": "stdout",
     "output_type": "stream",
     "text": [
      "Training classifiers...\n",
      "\n",
      "For classifier0 , J = 0.014\n",
      "For classifier1 , J = 0.022\n",
      "For classifier2 , J = 0.061\n",
      "For classifier3 , J = 0.065\n",
      "For classifier4 , J = 0.046\n",
      "For classifier5 , J = 0.066\n",
      "For classifier6 , J = 0.029\n",
      "For classifier7 , J = 0.040\n",
      "For classifier8 , J = 0.086\n",
      "For classifier9 , J = 0.081\n"
     ]
    }
   ],
   "source": [
    "m=data.shape[0]\n",
    "\n",
    "X=data.values[:,:-1]\n",
    "# Adding intercept term to the design matrix\n",
    "intercept=np.ones(shape=(m,1))\n",
    "X=np.column_stack((intercept,X))\n",
    "y=data['y'].values.reshape((m,1))\n",
    "\n",
    "alpha=1\n",
    "lmbda=0.1\n",
    "iterations=3000\n",
    "\n",
    "thetas=oneVsAll(X,y,alpha,lmbda,iterations)"
   ]
  },
  {
   "cell_type": "markdown",
   "metadata": {},
   "source": [
    "#### 1.4.1&nbsp;&nbsp;&nbsp;&nbsp;One-vs-all Prediction\n",
    "After training One-vs-all classifier, we can use it to predict the digit contained in a given image. For each input, we should compute the 'probability' that it belongs to each class using the trained logistic regression classifiers."
   ]
  },
  {
   "cell_type": "code",
   "execution_count": 12,
   "metadata": {},
   "outputs": [],
   "source": [
    "def predictOneVsAll(thetas,X):\n",
    "    '''Predic the label for a trained One-vs-all classifier. The labels are in the range 0 to 9'''\n",
    "    h=predict(X,thetas)\n",
    "    labels=h.argmax(axis=1)\n",
    "    return labels.reshape((X.shape[0],1))"
   ]
  },
  {
   "cell_type": "code",
   "execution_count": 13,
   "metadata": {},
   "outputs": [],
   "source": [
    "def calculateAccuracy(h,y):\n",
    "    '''Calculates the accuray between the target and prediction'''\n",
    "    m=y.shape[0]\n",
    "    unique,counts=np.unique(h==y,return_counts=True)\n",
    "    dic=dict(zip(unique,counts))\n",
    "    accuracy=(dic[True]/m)*100\n",
    "    return accuracy"
   ]
  },
  {
   "cell_type": "code",
   "execution_count": 14,
   "metadata": {},
   "outputs": [
    {
     "name": "stdout",
     "output_type": "stream",
     "text": [
      "TRAINING ACCURACY : 94.18\n"
     ]
    }
   ],
   "source": [
    "h=predictOneVsAll(thetas,X)\n",
    "accuracy=calculateAccuracy(h,y)\n",
    "print(f'TRAINING ACCURACY : {accuracy:.2f}')"
   ]
  },
  {
   "cell_type": "markdown",
   "metadata": {},
   "source": [
    "### 2&nbsp;&nbsp;&nbsp;&nbsp;Neural Networks\n",
    "\n",
    "In previous part of the exercise, we implemented multi-class logistic regression to recognize the handwritten digits. **However, logistic regression cannot form more complex hypotheses, as it is only a Linear Classifier.**  \n",
    "\n",
    ">**One may ask why is logistic regression a linear model if it can fit curves to our data??**  \n",
    "That's because the linearity of the model is concerned by the linearity of the parameters $\\theta$. Here the target variable is a function of parameter  ($\\theta$) multiplied by the independent variable ($x_i$). And we can fit the curves to our data using the non linear transformation of independent variables or features but the parameters are still linear.\n",
    "\n",
    "**Non Linear Hypotheses**  \n",
    "If the number of features are large which will ususally be the case, we will move towards the non linear hypotheses for a better fit for the data. So if $n=100$ :\n",
    "- For quadratic hypotheses, $n\\approx5000$ features\n",
    "- For cubic hypotheses, $n\\approx170000$ features  \n",
    "\n",
    "Solving such problems with logistic regression can cause two problems:\n",
    "- Computationally expensive\n",
    "- Time consuming\n",
    "\n",
    "Not a good way to learn complex Non Linear hypthoses when feature space is large. Hence, **Neural Networks**."
   ]
  },
  {
   "cell_type": "markdown",
   "metadata": {},
   "source": [
    "#### 2.1&nbsp;&nbsp;&nbsp;&nbsp;Model Representation\n",
    "\n",
    "\n",
    "<table>\n",
    "    <tr>\n",
    "        <td>\n",
    "            <img src=\"https://cdn-images-1.medium.com/max/1200/1*uyIJXyLOI4-ETDmcWFsKvQ.png\" width=\"300\">\n",
    "        </td>\n",
    "        <td>\n",
    "            <img src=\"http://ufldl.stanford.edu/tutorial/images/Network331.png\" width=\"300\">\n",
    "        </td>\n",
    "    </tr>\n",
    "</table>\n",
    "\n",
    "$a_i^{(j)}=$ \"activation\" of unit $i$ in layer $j$  \n",
    "$\\theta^{(j)}=$ matrix of weights controlling function mapping from layer $j$ to layer $j+1$  \n",
    "$g(x)=$ sigmoid activation function  \n",
    "\n",
    "**If network has $s_j$ units in layer $j$, $s_{j+1}$ units in layer $j+1$, then $\\theta^{(j)}$ will be of dimension $s_{j+1}$ X $(s_j+1)$**\n",
    "\n",
    "\n",
    "$$ a^{(2)}_1=g(\\theta_{10}^{(1)}x_0+\\theta_{11}^{(1)}x_1+\\theta_{12}^{(1)}x_2+\\theta_{13}^{(1)}x_3) $$\n",
    "\n",
    "$$ a^{(2)}_2=g(\\theta_{20}^{(1)}x_0+\\theta_{21}^{(1)}x_1+\\theta_{22}^{(1)}x_2+\\theta_{23}^{(1)}x_3) $$\n",
    "\n",
    "$$ a^{(2)}_3=g(\\theta_{30}^{(1)}x_0+\\theta_{31}^{(1)}x_1+\\theta_{32}^{(1)}x_2+\\theta_{33}^{(1)}x_3) $$\n",
    "\n",
    "\n",
    "In this exercise, we will be using the parameters from a neural network that is already trained. Our goal is to implement the **Feed-Forward Progration** algorithm for prediction."
   ]
  },
  {
   "cell_type": "code",
   "execution_count": 15,
   "metadata": {},
   "outputs": [
    {
     "name": "stdout",
     "output_type": "stream",
     "text": [
      "__header__\n",
      "__version__\n",
      "__globals__\n",
      "Theta1\n",
      "Theta2\n"
     ]
    }
   ],
   "source": [
    "# Loading weights\n",
    "weights=loadmat('./ex3weights.mat')\n",
    "print(*weights.keys(),sep='\\n')"
   ]
  },
  {
   "cell_type": "markdown",
   "metadata": {},
   "source": [
    "The neural network we are about to use has 3 layers - an input layer ($L_1$), a hidden layer ($L_2$) and an output layer ($L_3$). \n",
    "\n",
    "* L1 layer has 400 Neuron units (20 X 20 pixel image) excluding the extra bias unit that always output +1\n",
    "* L2 layer has 25 Neuron units\n",
    "* L3 layer has 10 Neuron Units"
   ]
  },
  {
   "cell_type": "code",
   "execution_count": 16,
   "metadata": {},
   "outputs": [
    {
     "name": "stdout",
     "output_type": "stream",
     "text": [
      "X : (5000, 401)\n",
      "Theta1 : (25, 401)\n",
      "Theta2 : (10, 26)\n"
     ]
    }
   ],
   "source": [
    "theta1=weights['Theta1']\n",
    "theta2=weights['Theta2']\n",
    "print(f'X : {X.shape}')\n",
    "print(f'Theta1 : {theta1.shape}')\n",
    "print(f'Theta2 : {theta2.shape}')"
   ]
  },
  {
   "cell_type": "markdown",
   "metadata": {},
   "source": [
    "#### 2.2&nbsp;&nbsp;&nbsp;&nbsp;Feedforward Propogation and Prediction\n",
    "\n",
    "**Vectorized Implementation** for three layered Neural Network:\n",
    "\n",
    "Step 0 : $a^{(1)}=x$  \n",
    "Step 1 : $z^{(2)}=\\theta^{(1)}a^{(1)}$  \n",
    "Step 2 : $a^{(2)}=g(z^{(2)})$  \n",
    "Step 3 : Add $a^{(2)}_0=1$  \n",
    "Step 4 : $z^{(3)}=\\theta^{(2)}a^{(2)}$  \n",
    "Step 5 : $a^{(3)}=g(z^{(3)})$  \n",
    "Step 6 : $h_\\theta(x)=a^{(3)}$"
   ]
  },
  {
   "cell_type": "code",
   "execution_count": 17,
   "metadata": {},
   "outputs": [],
   "source": [
    "def predictNN(theta1,theta2,X):\n",
    "    '''Predict the label of an input given a trained neural network'''\n",
    "    m,n=X.shape\n",
    "    # Feed Forward Propogation\n",
    "    a1=X\n",
    "    z2=np.dot(a1,theta1.T)\n",
    "    a2=sigmoid(z2)\n",
    "    a2=np.column_stack((np.ones(shape=(a2.shape[0],1)),a2))\n",
    "    z3=np.dot(a2,theta2.T)\n",
    "    a3=sigmoid(z3)\n",
    "    h=a3\n",
    "    labels=h.argmax(axis=1)\n",
    "    return labels.reshape((m,1))"
   ]
  },
  {
   "cell_type": "code",
   "execution_count": 18,
   "metadata": {},
   "outputs": [
    {
     "name": "stdout",
     "output_type": "stream",
     "text": [
      "TRAINING ACCURACY : 97.52\n"
     ]
    }
   ],
   "source": [
    "# Using label 10 for digit 0\n",
    "y=mat['y']\n",
    "\n",
    "h=predictNN(theta1,theta2,X)\n",
    "# Adding one to h because matlab indexing starts from 1 whereas python indexing starts from 0\n",
    "h+=1\n",
    "\n",
    "accuracy=calculateAccuracy(h,y)\n",
    "print(f'TRAINING ACCURACY : {accuracy:.2f}')"
   ]
  },
  {
   "cell_type": "markdown",
   "metadata": {},
   "source": [
    "### Neural Network, aka Black Box\n",
    "<img src=\"https://www.learnopencv.com/wp-content/uploads/2017/05/neural-network-as-blackbox-3.jpg\" width=\"600\">\n"
   ]
  }
 ],
 "metadata": {
  "kernelspec": {
   "display_name": "Python 3",
   "language": "python",
   "name": "python3"
  },
  "language_info": {
   "codemirror_mode": {
    "name": "ipython",
    "version": 3
   },
   "file_extension": ".py",
   "mimetype": "text/x-python",
   "name": "python",
   "nbconvert_exporter": "python",
   "pygments_lexer": "ipython3",
   "version": "3.7.1"
  }
 },
 "nbformat": 4,
 "nbformat_minor": 2
}
