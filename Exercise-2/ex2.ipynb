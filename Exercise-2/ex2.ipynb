{
 "cells": [
  {
   "cell_type": "markdown",
   "metadata": {},
   "source": [
    "## Programming Exercise 2: Logistic Regression\n",
    "#### Author - Rishabh Jain"
   ]
  },
  {
   "cell_type": "code",
   "execution_count": 1,
   "metadata": {},
   "outputs": [],
   "source": [
    "import matplotlib.pyplot as plt\n",
    "import seaborn as sns\n",
    "import pandas as pd\n",
    "import numpy as np\n",
    "%matplotlib inline"
   ]
  },
  {
   "cell_type": "markdown",
   "metadata": {},
   "source": [
    "### 1&nbsp;&nbsp;&nbsp;&nbsp;Logistic Regression\n",
    "\n",
    "##### Problem Statement\n",
    "In this part of the exercise, we will build a logistic regression model to predict whether the student gets admitted into a university.  \n",
    "\n",
    "Suppose that we are the adminstrator of a department and want to determine each applicant's chance of admission based on their results in two exams. We have hisotrical data from previous applicants that we can use as a training set for logistic regression. For each applicant, we have their scores in two exams and their admission decision.\n",
    "\n",
    "Our task is to build a classification model that estimates an applicant's probability of admission based on the score from those two exams."
   ]
  },
  {
   "cell_type": "code",
   "execution_count": 2,
   "metadata": {},
   "outputs": [
    {
     "name": "stdout",
     "output_type": "stream",
     "text": [
      "TRAINING DATASET SHAPE : 100 X 3\n"
     ]
    },
    {
     "data": {
      "text/html": [
       "<div>\n",
       "<style scoped>\n",
       "    .dataframe tbody tr th:only-of-type {\n",
       "        vertical-align: middle;\n",
       "    }\n",
       "\n",
       "    .dataframe tbody tr th {\n",
       "        vertical-align: top;\n",
       "    }\n",
       "\n",
       "    .dataframe thead th {\n",
       "        text-align: right;\n",
       "    }\n",
       "</style>\n",
       "<table border=\"1\" class=\"dataframe\">\n",
       "  <thead>\n",
       "    <tr style=\"text-align: right;\">\n",
       "      <th></th>\n",
       "      <th>exam1</th>\n",
       "      <th>exam2</th>\n",
       "      <th>decision</th>\n",
       "    </tr>\n",
       "  </thead>\n",
       "  <tbody>\n",
       "    <tr>\n",
       "      <th>3</th>\n",
       "      <td>60.182599</td>\n",
       "      <td>86.308552</td>\n",
       "      <td>1</td>\n",
       "    </tr>\n",
       "    <tr>\n",
       "      <th>37</th>\n",
       "      <td>64.176989</td>\n",
       "      <td>80.908061</td>\n",
       "      <td>1</td>\n",
       "    </tr>\n",
       "    <tr>\n",
       "      <th>79</th>\n",
       "      <td>82.226662</td>\n",
       "      <td>42.719879</td>\n",
       "      <td>0</td>\n",
       "    </tr>\n",
       "    <tr>\n",
       "      <th>85</th>\n",
       "      <td>68.468522</td>\n",
       "      <td>85.594307</td>\n",
       "      <td>1</td>\n",
       "    </tr>\n",
       "    <tr>\n",
       "      <th>64</th>\n",
       "      <td>44.668262</td>\n",
       "      <td>66.450086</td>\n",
       "      <td>0</td>\n",
       "    </tr>\n",
       "  </tbody>\n",
       "</table>\n",
       "</div>"
      ],
      "text/plain": [
       "        exam1      exam2  decision\n",
       "3   60.182599  86.308552         1\n",
       "37  64.176989  80.908061         1\n",
       "79  82.226662  42.719879         0\n",
       "85  68.468522  85.594307         1\n",
       "64  44.668262  66.450086         0"
      ]
     },
     "execution_count": 2,
     "metadata": {},
     "output_type": "execute_result"
    }
   ],
   "source": [
    "data=pd.read_csv('./ex2data1.csv')\n",
    "print(f'TRAINING DATASET SHAPE : {data.shape[0]} X {data.shape[1]}')\n",
    "data.sample(5)"
   ]
  },
  {
   "cell_type": "markdown",
   "metadata": {},
   "source": [
    "#### 1.1&nbsp;&nbsp;&nbsp;&nbsp;Visualizing the data\n",
    "Before starting to implement any learning algorithms, it is always good to visualize the data if possible."
   ]
  },
  {
   "cell_type": "code",
   "execution_count": 3,
   "metadata": {
    "scrolled": true
   },
   "outputs": [
    {
     "data": {
      "image/png": "[encoded data removed]",
      "text/plain": [
       "<Figure size 432x288 with 1 Axes>"
      ]
     },
     "metadata": {
      "needs_background": "light"
     },
     "output_type": "display_data"
    }
   ],
   "source": [
    "sns.scatterplot(x='exam1',y='exam2',data=data[data['decision']==0],label='Not Admitted');\n",
    "sns.scatterplot(x='exam1',y='exam2',data=data[data['decision']==1],label='Admitted');"
   ]
  },
  {
   "cell_type": "markdown",
   "metadata": {},
   "source": [
    "#### 1.2&nbsp;&nbsp;&nbsp;&nbsp;Implementation\n",
    "We will add another dimension to the Design Matrix to accomodate the $\\theta_0$ intercept term. We will also initialize the fitting parameters to 0."
   ]
  },
  {
   "cell_type": "code",
   "execution_count": 4,
   "metadata": {},
   "outputs": [
    {
     "name": "stdout",
     "output_type": "stream",
     "text": [
      "X : (100, 3)\n",
      "y : (100, 1)\n",
      "theta : (1, 3)\n"
     ]
    }
   ],
   "source": [
    "m=data.shape[0]\n",
    "X=np.ones(shape=(m,3))\n",
    "X[:,1:]=data.values[:,:2]\n",
    "print(f'X : {X.shape}')\n",
    "\n",
    "y=data.values[:,2]\n",
    "y=y[:,np.newaxis]\n",
    "print(f'y : {y.shape}')\n",
    "\n",
    "theta=np.zeros(shape=(1,X.shape[1]))\n",
    "print(f'theta : {theta.shape}')"
   ]
  },
  {
   "cell_type": "markdown",
   "metadata": {},
   "source": [
    "##### 1.2.1&nbsp;&nbsp;&nbsp;&nbsp;Sigmoid/Logistic Function\n",
    "\n",
    "Before starting with the implementation, let's try to understand the sigmoid function.  \n",
    "For large positive values of $x$, sigmoid function is close to 1, while for large negative values, sigmoid function is close to 0. And sigmoid of 0 is exactly 0.5 .\n",
    "\n",
    "$$ \\sigma(x)=\\frac{1}{1+e^{-x}} $$"
   ]
  },
  {
   "cell_type": "code",
   "execution_count": 5,
   "metadata": {},
   "outputs": [],
   "source": [
    "def sigmoid(z):\n",
    "    sigma=1/(1+np.exp(-z))\n",
    "    return sigma"
   ]
  },
  {
   "cell_type": "code",
   "execution_count": 6,
   "metadata": {},
   "outputs": [
    {
     "data": {
      "image/png": "[encoded data removed]",
      "text/plain": [
       "<Figure size 432x288 with 1 Axes>"
      ]
     },
     "metadata": {
      "needs_background": "light"
     },
     "output_type": "display_data"
    }
   ],
   "source": [
    "df=pd.DataFrame({'X':np.linspace(-10,10,100)})\n",
    "df['Y']=sigmoid(df['X'])\n",
    "sns.lineplot(x='X',y='Y',data=df,label='SIGMOID CURVE');"
   ]
  },
  {
   "cell_type": "markdown",
   "metadata": {},
   "source": [
    "###### Model Representation\n",
    "\n",
    "The hypothesis in Linear Regression (i.e. $h_\\theta(x)=\\theta^Tx$) cannot be used for the classification problems because the linear hypothesis output ranges from $-\\infty$ to $\\infty$, whereas $y$ (i.e. target variable) in classification problems are either 0 or 1. Hence the range of hypothesis output in Logistic Regression should be:\n",
    "\n",
    "$$ 0\\le h_\\theta(x) \\le 1 $$\n",
    "\n",
    "In order to keep $h_\\theta(x)$ in the range mentioned above, Sigmoid Function comes to rescue:\n",
    "\n",
    "$$ h_\\theta(x)=g(\\theta^Tx) $$\n",
    "$$ g(z)=\\frac{1}{1+e^{-z}} $$\n",
    "\n"
   ]
  },
  {
   "cell_type": "code",
   "execution_count": 7,
   "metadata": {},
   "outputs": [],
   "source": [
    "def predict(X,theta):\n",
    "    '''Predicts by applying logistic function on linear model'''\n",
    "    z=np.dot(X,theta.T)\n",
    "    h=sigmoid(z)\n",
    "    return h"
   ]
  },
  {
   "cell_type": "markdown",
   "metadata": {},
   "source": [
    "##### 1.2.2&nbsp;&nbsp;&nbsp;&nbsp;Cost function\n",
    "We learnt about the cost function $J(\\theta)$ in **Linear Regression**, the cost function represents the optimization objective i.e. we create a cost function and minimize it to develope an accurate model with minimum error.\n",
    "$$ J(\\theta)=\\frac{1}{2m}\\sum_{i=0}^m(h_\\theta(x^{(i)})-y^{(i)})^2 $$  \n",
    "On replacing $h_\\theta(x)$ with $\\frac{1}{1+e^{(-\\theta^Tx)}}$ in the above equation,it becomes '**Non Convex**' which does not guarrante to converge and find the global minimum. So we need a new cost function for Logistic Regression.  \n",
    "\n",
    "<img src='https://d3ansictanv2wj.cloudfront.net/convex-non-convex-9c8cb9320d4b0392c5f67004e8832e85.jpg' width='500'>\n",
    "\n",
    "The figure in left is a '**Convex**' function and has only one minimum called global minimum and will always converage whereas the figure in right is a '**Non Convex**' function and has mutiple minimums also called local minimums. And there is no guarrante that the non convex function will always converge.\n",
    "\n",
    "For **Logistic Regression** cost function is defined as:  \n",
    "\n",
    "$$\\begin{equation}\n",
    "  Cost(h_\\theta(x),y)=\\begin{cases}\n",
    "    -log(h_\\theta(x)) & \\text{if }y=1 \\\\\n",
    "    -log(1-h_\\theta(x)) & \\text{if }y=0\n",
    "  \\end{cases}\n",
    "\\end{equation}$$\n",
    "\n",
    "Let's try to understand the cost function.  \n",
    "\n",
    "For $y=1$\n",
    "- $J(\\theta)\\approx\\infty$ if $h_\\theta(x)\\approx0$ (Penalty for wrong prediction)\n",
    "- $J(\\theta)\\approx0$ if $h_\\theta(x)\\approx1$  \n",
    "\n",
    "For $y=0$\n",
    "- $J(\\theta)\\approx\\infty$ if $h_\\theta(x)\\approx1$ (Penalty for wrong prediction)\n",
    "- $J(\\theta)\\approx0$ if $h_\\theta(x)\\approx0$  "
   ]
  },
  {
   "cell_type": "code",
   "execution_count": 8,
   "metadata": {},
   "outputs": [
    {
     "data": {
      "image/png": "[encoded data removed]",
      "text/plain": [
       "<Figure size 432x288 with 1 Axes>"
      ]
     },
     "metadata": {
      "needs_background": "light"
     },
     "output_type": "display_data"
    }
   ],
   "source": [
    "# In Logistic Regression, 0<h(x)<1 \n",
    "df=pd.DataFrame({'h':np.linspace(0.01,0.99,100)})\n",
    "df['Cost_1']=-np.log(df['h'])\n",
    "df['Cost_0']=-np.log(1-df['h'])\n",
    "sns.lineplot(x='h',y='Cost_0',data=df,label='y=0');\n",
    "sns.lineplot(x='h',y='Cost_1',data=df,label='y=1');"
   ]
  },
  {
   "cell_type": "markdown",
   "metadata": {},
   "source": [
    "From the above graph and the set of equations, we can see that this new cost function captures the intuition of penalizing the learning algorithm by a very large cost if predictions are not even remotely close. Combinig both the equations, **Cost function of Logistic Regression** also called **Cross Entropy function** looks like this:\n",
    "\n",
    "$$ J(\\theta)= \\frac{-1}{m}\\sum_{i=0}^m[y^{(i)}log(h_\\theta(x^{(i)}))+(1-y^{(i)})log(1-h_\\theta(x^{(i)})]$$"
   ]
  },
  {
   "cell_type": "code",
   "execution_count": 9,
   "metadata": {},
   "outputs": [],
   "source": [
    "def computeCost(h,y):\n",
    "    '''Computes the cost using Cross Entropy function'''\n",
    "    m=y.shape[0]\n",
    "    J=(-1/m)*np.sum(np.multiply(y,np.log(h))+np.multiply(1-y,np.log(1-h)))\n",
    "    return J"
   ]
  },
  {
   "cell_type": "code",
   "execution_count": 10,
   "metadata": {},
   "outputs": [
    {
     "data": {
      "text/plain": [
       "0.6931471805599453"
      ]
     },
     "execution_count": 10,
     "metadata": {},
     "output_type": "execute_result"
    }
   ],
   "source": [
    "h=predict(X,theta)\n",
    "computeCost(h,y)"
   ]
  },
  {
   "cell_type": "markdown",
   "metadata": {},
   "source": [
    "##### 1.2.3&nbsp;&nbsp;&nbsp;&nbsp;Learning Parameters\n",
    "\n",
    "**Gradient Descent Optimization** :\n",
    "$$ \\theta_j := \\theta_j - \\alpha \\frac{\\partial}{\\partial \\theta_j}J(\\theta) $$"
   ]
  },
  {
   "cell_type": "markdown",
   "metadata": {},
   "source": [
    "**Lets calculate the $\\frac{\\partial}{\\partial \\theta_j}J(\\theta)$ for Logistic Regression cost function.**  \n",
    "\n",
    "$ log(h_\\theta(x))=log(\\frac{1}{1+e^{-\\theta^Tx}})=-log(1+e^{-\\theta^Tx})\\;\\;\\;\\;\\; (1) $  \n",
    "$ log(1-h_\\theta(x))=log(1-\\frac{1}{1+e^{-\\theta^Tx}})=log(\\frac{e^{-\\theta^Tx}}{1+e^{-\\theta^Tx}})=log(e^{-\\theta^Tx})-log(\\frac{1}{1+e^{-\\theta^Tx}})=-\\theta^Tx-log(1+e^{-\\theta^Tx})\\;\\;\\;\\;\\; (2) $\n",
    "\n",
    "Replacing $(1)$ and $(2)$ in $J(\\theta)$,\n",
    "\n",
    "$ J(\\theta)=\\frac{-1}{m}\\sum_{i=0}^m[-y^i(log(1+e^{(-\\theta^Tx^i)}))+(1-y^i)(-\\theta^Tx^i-log(1+e^{-\\theta^Tx^i}))] $\n",
    "\n",
    "$ \\;\\;\\;\\;\\;\\;\\;=\\frac{-1}{m}\\sum_{i=0}^m[-y^ilog(1+e^{-\\theta^Tx^i})-\\theta^Tx^i-log(1+e^{-\\theta^Tx^i})+y^i\\theta^Tx^i+y^ilog(1+e^{-\\theta^Tx^i})] $\n",
    "\n",
    "$ \\;\\;\\;\\;\\;\\;\\;=\\frac{-1}{m}\\sum_{i=0}^m[y^i\\theta^Tx^i-(log(e^{\\theta^Tx^i})+log(1+e^{-\\theta^Tx^i}))]\\;\\;\\;\\;\\;(using\\; m=log(e^m)) $\n",
    "\n",
    "$ \\;\\;\\;\\;\\;\\;\\;=\\frac{-1}{m}\\sum_{i=0}^m[y^i\\theta^Tx^i-log(1+e^{\\theta^Tx^i})]\\;\\;\\;\\;\\;(using\\; log(m)+log(n)=log(mn)) $\n",
    "\n",
    "$ \\frac{\\partial}{\\partial \\theta}(J(\\theta))=\\frac{-1}{m}\\sum_{i=0}^m[\\frac{\\partial}{\\partial \\theta}(y^i\\theta^Tx^i)-\\frac{\\partial}{\\partial \\theta}(log(1+e^{\\theta^Tx^i}))] $\n",
    "\n",
    "$ \\;\\;\\;\\;\\;\\;\\;\\;\\;\\;\\;\\;=\\frac{-1}{m}\\sum_{i=0}^m[y^ix^i-\\frac{1.e^{\\theta^Tx^i}.x^i}{1+e^{\\theta^Tx^i}}]\\;\\;\\;\\;\\;(using\\;\\frac{d}{dx}(uv)=u.\\frac{dv}{dx}+v.\\frac{du}{dx}) $\n",
    "\n",
    "$ \\;\\;\\;\\;\\;\\;\\;\\;\\;\\;\\;\\;=\\frac{-1}{m}\\sum_{i=0}^m[y^ix^i-\\frac{x^i}{\\frac{1+e^{\\theta^Tx^i}}{e^{\\theta^Tx^i}}}] $\n",
    "\n",
    "$ \\;\\;\\;\\;\\;\\;\\;\\;\\;\\;\\;\\;=\\frac{-1}{m}\\sum_{i=0}^m[y^ix^i-\\frac{x^i}{1+e^{-\\theta^Tx^i}}] $\n",
    "\n",
    "$ \\;\\;\\;\\;\\;\\;\\;\\;\\;\\;\\;\\;=\\frac{1}{m}\\sum_{i=0}^m(h_\\theta(x^i)-y^i)x^i\\;\\;\\;\\;\\; (3) $\n",
    "\n",
    "Replacing $(3)$ in update rule:\n",
    "\n",
    "$$ \\theta_j:=\\theta_j-\\alpha\\frac{1}{m}\\sum_{i=0}^m(h_\\theta(x^{(i)})-y^{(i)})x_j^{(i)} $$\n",
    "\n",
    "As we can see that the Gradient Descent update rule remains the same even though the underlying cost function has changed."
   ]
  },
  {
   "cell_type": "code",
   "execution_count": 11,
   "metadata": {},
   "outputs": [],
   "source": [
    "def gradientDescent(X,y,theta,alpha,iterations):\n",
    "    '''Minimizes the cost function using Gradient Descent Optimization Algorithm'''\n",
    "    m=X.shape[0]\n",
    "    jHistory=[]\n",
    "    for i in range(iterations):\n",
    "        h=predict(X,theta)\n",
    "        # Computing cost\n",
    "        J=computeCost(h,y)\n",
    "        jHistory.append(J)\n",
    "        # Parameters update rule\n",
    "        gradient=(alpha/m)*np.dot((h-y).T,X)\n",
    "        theta=theta-gradient\n",
    "    return (theta,jHistory)"
   ]
  },
  {
   "cell_type": "code",
   "execution_count": 12,
   "metadata": {},
   "outputs": [],
   "source": [
    "def featureNormalize(X):\n",
    "    '''Normalizes the Design Matrix assuming the first column is filled with ones for intrecept term.'''\n",
    "    X[:,1:]=(X[:,1:]-X[:,1:].mean(axis=0))/X[:,1:].std(axis=0)\n",
    "    return X"
   ]
  },
  {
   "cell_type": "markdown",
   "metadata": {},
   "source": [
    "**Normalizing the features before training the model is important as it speeds up the optimization.**"
   ]
  },
  {
   "cell_type": "code",
   "execution_count": 13,
   "metadata": {},
   "outputs": [
    {
     "data": {
      "text/plain": [
       "array([[ 1.        , -1.60224763,  0.63834112],\n",
       "       [ 1.        , -1.82625564, -1.2075414 ],\n",
       "       [ 1.        , -1.53903969,  0.3612943 ],\n",
       "       [ 1.        , -0.28210129,  1.0863683 ],\n",
       "       [ 1.        ,  0.69152826,  0.49337794],\n",
       "       [ 1.        , -1.06199728, -0.5357394 ],\n",
       "       [ 1.        , -0.23437234,  1.63818413],\n",
       "       [ 1.        ,  0.4845113 , -1.06373024],\n",
       "       [ 1.        ,  0.53998666,  1.14651105],\n",
       "       [ 1.        ,  0.97044832, -1.22709853]])"
      ]
     },
     "execution_count": 13,
     "metadata": {},
     "output_type": "execute_result"
    }
   ],
   "source": [
    "X=featureNormalize(X)\n",
    "X[:10,:]"
   ]
  },
  {
   "cell_type": "code",
   "execution_count": 14,
   "metadata": {},
   "outputs": [
    {
     "name": "stdout",
     "output_type": "stream",
     "text": [
      "FINAL COST : 0.2036\n"
     ]
    },
    {
     "data": {
      "image/png": "[encoded data removed]",
      "text/plain": [
       "<Figure size 432x288 with 1 Axes>"
      ]
     },
     "metadata": {
      "needs_background": "light"
     },
     "output_type": "display_data"
    }
   ],
   "source": [
    "alpha=0.3\n",
    "iterations=1500\n",
    "\n",
    "theta,jHistory=gradientDescent(X,y,theta,alpha,iterations)\n",
    "df=pd.DataFrame({'Iterations':range(iterations),'Cost Function':jHistory})\n",
    "print('FINAL COST : %.4f'%jHistory[iterations-1])\n",
    "sns.lineplot(data=df,x='Iterations',y='Cost Function');"
   ]
  },
  {
   "cell_type": "markdown",
   "metadata": {},
   "source": [
    "**Plotting Decision Boundary**  \n",
    "A decision boundary is hypersurface that partitions the underlying vector into two sets or classes.\n",
    "\n",
    "Genral Equation of Line : \n",
    "$$ ax+by=c $$\n",
    "$$ \\theta_1x_1+\\theta_2x_2=-\\theta_0 $$  \n",
    "$$ x_2=(\\frac{-1}{\\theta_2})(\\theta_0+\\theta_1x_1)$$"
   ]
  },
  {
   "cell_type": "code",
   "execution_count": 15,
   "metadata": {},
   "outputs": [
    {
     "data": {
      "image/png": "[encoded data removed]",
      "text/plain": [
       "<Figure size 432x288 with 1 Axes>"
      ]
     },
     "metadata": {
      "needs_background": "light"
     },
     "output_type": "display_data"
    }
   ],
   "source": [
    "sns.scatterplot(x='exam1',y='exam2',data=data[data['decision']==0],label='Not Admitted');\n",
    "sns.scatterplot(x='exam1',y='exam2',data=data[data['decision']==1],label='Admitted');\n",
    "# Only need two points to define a line, so choose two endpoints\n",
    "x1=np.array([min(X[:,1]),max(X[:,1])])\n",
    "x2=np.multiply((-1/theta[0][2]),(theta[0][0]+np.multiply(theta[0][1],x1)))\n",
    "# De-normalizing the data\n",
    "x1=x1*data['exam1'].std()+data['exam1'].mean()\n",
    "x2=x2*data['exam2'].std()+data['exam2'].mean()\n",
    "sns.lineplot(x=x1,y=x2,label='Decision Boundary',color='green');"
   ]
  },
  {
   "cell_type": "markdown",
   "metadata": {},
   "source": [
    "##### 1.2.4&nbsp;&nbsp;&nbsp;&nbsp;Evaluating Logistic Regression"
   ]
  },
  {
   "cell_type": "code",
   "execution_count": 16,
   "metadata": {},
   "outputs": [
    {
     "data": {
      "text/html": [
       "<div>\n",
       "<style scoped>\n",
       "    .dataframe tbody tr th:only-of-type {\n",
       "        vertical-align: middle;\n",
       "    }\n",
       "\n",
       "    .dataframe tbody tr th {\n",
       "        vertical-align: top;\n",
       "    }\n",
       "\n",
       "    .dataframe thead th {\n",
       "        text-align: right;\n",
       "    }\n",
       "</style>\n",
       "<table border=\"1\" class=\"dataframe\">\n",
       "  <thead>\n",
       "    <tr style=\"text-align: right;\">\n",
       "      <th></th>\n",
       "      <th>actual</th>\n",
       "      <th>prediction</th>\n",
       "    </tr>\n",
       "  </thead>\n",
       "  <tbody>\n",
       "    <tr>\n",
       "      <th>64</th>\n",
       "      <td>0</td>\n",
       "      <td>0.075530</td>\n",
       "    </tr>\n",
       "    <tr>\n",
       "      <th>73</th>\n",
       "      <td>1</td>\n",
       "      <td>0.878757</td>\n",
       "    </tr>\n",
       "    <tr>\n",
       "      <th>63</th>\n",
       "      <td>0</td>\n",
       "      <td>0.000157</td>\n",
       "    </tr>\n",
       "    <tr>\n",
       "      <th>10</th>\n",
       "      <td>0</td>\n",
       "      <td>0.905205</td>\n",
       "    </tr>\n",
       "    <tr>\n",
       "      <th>49</th>\n",
       "      <td>1</td>\n",
       "      <td>0.999988</td>\n",
       "    </tr>\n",
       "    <tr>\n",
       "      <th>21</th>\n",
       "      <td>1</td>\n",
       "      <td>0.998391</td>\n",
       "    </tr>\n",
       "    <tr>\n",
       "      <th>40</th>\n",
       "      <td>1</td>\n",
       "      <td>0.967775</td>\n",
       "    </tr>\n",
       "    <tr>\n",
       "      <th>38</th>\n",
       "      <td>0</td>\n",
       "      <td>0.209379</td>\n",
       "    </tr>\n",
       "    <tr>\n",
       "      <th>99</th>\n",
       "      <td>1</td>\n",
       "      <td>0.999695</td>\n",
       "    </tr>\n",
       "    <tr>\n",
       "      <th>6</th>\n",
       "      <td>1</td>\n",
       "      <td>0.998787</td>\n",
       "    </tr>\n",
       "  </tbody>\n",
       "</table>\n",
       "</div>"
      ],
      "text/plain": [
       "    actual  prediction\n",
       "64       0    0.075530\n",
       "73       1    0.878757\n",
       "63       0    0.000157\n",
       "10       0    0.905205\n",
       "49       1    0.999988\n",
       "21       1    0.998391\n",
       "40       1    0.967775\n",
       "38       0    0.209379\n",
       "99       1    0.999695\n",
       "6        1    0.998787"
      ]
     },
     "execution_count": 16,
     "metadata": {},
     "output_type": "execute_result"
    }
   ],
   "source": [
    "h=predict(X,theta).reshape(m)\n",
    "result=pd.DataFrame({'actual':data['decision'],'prediction':h})\n",
    "result.sample(10)"
   ]
  },
  {
   "cell_type": "markdown",
   "metadata": {},
   "source": [
    "Calculating the admission probability of student with Exam 1 score of 45 and Exam 2 score of 85."
   ]
  },
  {
   "cell_type": "code",
   "execution_count": 17,
   "metadata": {},
   "outputs": [
    {
     "name": "stdout",
     "output_type": "stream",
     "text": [
      "ADMISSION PROBABILITY : 0.770\n"
     ]
    }
   ],
   "source": [
    "x=[1,45,85]\n",
    "# Normalizing the data\n",
    "x[1]=(x[1]-data['exam1'].mean())/data['exam1'].std()\n",
    "x[2]=(x[2]-data['exam2'].mean())/data['exam2'].std()\n",
    "print('ADMISSION PROBABILITY : %.3f'%predict(x,theta)[0])"
   ]
  },
  {
   "cell_type": "markdown",
   "metadata": {},
   "source": [
    "Calculating the training accuracy."
   ]
  },
  {
   "cell_type": "code",
   "execution_count": 18,
   "metadata": {},
   "outputs": [
    {
     "name": "stdout",
     "output_type": "stream",
     "text": [
      "TRAINING ACCURACY : 89.0%\n"
     ]
    }
   ],
   "source": [
    "p=np.round(h).reshape(m,1)\n",
    "accuracy=np.mean(y==p)*100\n",
    "print(f'TRAINING ACCURACY : {accuracy}%')"
   ]
  },
  {
   "cell_type": "markdown",
   "metadata": {},
   "source": [
    "### 2&nbsp;&nbsp;&nbsp;&nbsp;Regularized Logistic Regression\n",
    "\n",
    "##### Problem Statement\n",
    "In this part of the exercise, we will implement regularized logistic regression to predict whether microchips from a fabrication plant passes quality assurance (QA). During QA,e ach microchip goes through various tests to ensure it is functioning correctly.\n",
    "\n",
    "Suppose we are the product manager of the factory and we have the rest results for some microchips on two different tests. From these two tests, we would like to determine whether the microchips should be accepted or rejected. To help us make a decision, we have a dataset of test results on past microchips, from which we can build a logistic regression model."
   ]
  },
  {
   "cell_type": "code",
   "execution_count": 19,
   "metadata": {},
   "outputs": [
    {
     "name": "stdout",
     "output_type": "stream",
     "text": [
      "TRAINING DATASET SHAPE : 118 X 3\n"
     ]
    },
    {
     "data": {
      "text/html": [
       "<div>\n",
       "<style scoped>\n",
       "    .dataframe tbody tr th:only-of-type {\n",
       "        vertical-align: middle;\n",
       "    }\n",
       "\n",
       "    .dataframe tbody tr th {\n",
       "        vertical-align: top;\n",
       "    }\n",
       "\n",
       "    .dataframe thead th {\n",
       "        text-align: right;\n",
       "    }\n",
       "</style>\n",
       "<table border=\"1\" class=\"dataframe\">\n",
       "  <thead>\n",
       "    <tr style=\"text-align: right;\">\n",
       "      <th></th>\n",
       "      <th>test1</th>\n",
       "      <th>test2</th>\n",
       "      <th>result</th>\n",
       "    </tr>\n",
       "  </thead>\n",
       "  <tbody>\n",
       "    <tr>\n",
       "      <th>114</th>\n",
       "      <td>-0.593890</td>\n",
       "      <td>0.49488</td>\n",
       "      <td>0</td>\n",
       "    </tr>\n",
       "    <tr>\n",
       "      <th>16</th>\n",
       "      <td>0.166470</td>\n",
       "      <td>0.53874</td>\n",
       "      <td>1</td>\n",
       "    </tr>\n",
       "    <tr>\n",
       "      <th>92</th>\n",
       "      <td>0.103110</td>\n",
       "      <td>0.77997</td>\n",
       "      <td>0</td>\n",
       "    </tr>\n",
       "    <tr>\n",
       "      <th>38</th>\n",
       "      <td>0.062788</td>\n",
       "      <td>-0.16301</td>\n",
       "      <td>1</td>\n",
       "    </tr>\n",
       "    <tr>\n",
       "      <th>79</th>\n",
       "      <td>0.085829</td>\n",
       "      <td>-0.75512</td>\n",
       "      <td>0</td>\n",
       "    </tr>\n",
       "  </tbody>\n",
       "</table>\n",
       "</div>"
      ],
      "text/plain": [
       "        test1    test2  result\n",
       "114 -0.593890  0.49488       0\n",
       "16   0.166470  0.53874       1\n",
       "92   0.103110  0.77997       0\n",
       "38   0.062788 -0.16301       1\n",
       "79   0.085829 -0.75512       0"
      ]
     },
     "execution_count": 19,
     "metadata": {},
     "output_type": "execute_result"
    }
   ],
   "source": [
    "data=pd.read_csv('./ex2data2.csv')\n",
    "print(f'TRAINING DATASET SHAPE : {data.shape[0]} X {data.shape[1]}')\n",
    "data.sample(5)"
   ]
  },
  {
   "cell_type": "markdown",
   "metadata": {},
   "source": [
    "#### 2.1&nbsp;&nbsp;&nbsp;&nbsp;Visualizing the data"
   ]
  },
  {
   "cell_type": "code",
   "execution_count": 20,
   "metadata": {},
   "outputs": [
    {
     "data": {
      "image/png": "[encoded data removed]",
      "text/plain": [
       "<Figure size 432x288 with 1 Axes>"
      ]
     },
     "metadata": {
      "needs_background": "light"
     },
     "output_type": "display_data"
    }
   ],
   "source": [
    "sns.scatterplot(x='test1',y='test2',data=data[data['result']==0],label='Rejected');\n",
    "sns.scatterplot(x='test1',y='test2',data=data[data['result']==1],label='Accepted');"
   ]
  },
  {
   "cell_type": "markdown",
   "metadata": {},
   "source": [
    "Figure above shows that our dataset cannot be separated into two different classes by a straight line. Therefore, a straight forward application of logistic regression will not perform well on this dataset since logistic regression will only be able to find a linear decision boundary."
   ]
  },
  {
   "cell_type": "markdown",
   "metadata": {},
   "source": [
    "#### 2.2&nbsp;&nbsp;&nbsp;&nbsp;Feature Mapping\n",
    "\n",
    "One way to fit the data better is to create more features from each data point. We will map the features into all polynomial terms of $x_1$ and $x_2$ up to $n^{th}$ power. As a result of this mapping, our vector of two features will be transformed into higher-dimensional feature vector. A logistic regression classifier trained on higher-dimension feature vector will have a more complex decision boundary and will appear non-linear.  \n",
    "\n",
    "While the feature mapping allows us to build a more expressive classifier and  helps us solve the **Underfitting** problem, it is also more susceptible to **Overfitting** problem.\n",
    "\n",
    "From $[x_1,x_2]$ features to $[1,x_1,x_2,x_1^2,x_1x_2,x_2^2,x_1^3...x_2^n]$ features."
   ]
  },
  {
   "cell_type": "code",
   "execution_count": 21,
   "metadata": {},
   "outputs": [],
   "source": [
    "def mapFeature(x1,x2,degree):\n",
    "    result=np.ones(shape=(x1.shape[0],1))\n",
    "    for i in range(1,degree+1):\n",
    "        for j in range(0,i+1):\n",
    "            column=np.multiply(np.power(x1,i-j),np.power(x2,j))\n",
    "            result=np.column_stack((result,column))\n",
    "    return result"
   ]
  },
  {
   "cell_type": "markdown",
   "metadata": {},
   "source": [
    "#### 2.3&nbsp;&nbsp;&nbsp;&nbsp;Cost Function and Gradient\n",
    "\n",
    "In this part of the exercise, we will implement the **regularized** logistic regression to fit the data and also see for ourselves how parameters regularization can help combat the overfitting problem.\n",
    "\n",
    "<img src=\"https://i.stack.imgur.com/t0zit.png\" width=\"500\">  \n",
    "If we have too many features, the learned hypothesis will have large parameters and fit the training set very well such that $J(\\theta)\\approx0$, but fail to generalize new examples. What are our options available?\n",
    "1. Reduce the number of features. (we will be throwing away the important information here.)\n",
    "2. **Regularization** - this process keeps all the features and adds a penalty to the **RSS (Sum of squared residuals)** to reduce the freedom of the model. Hence, the model will less likely to fit the noise of the training data and will improve the generalization abilities of the model. In layman terms, regularization tries to prevent the parameters from growing larger.\n",
    "\n",
    "##### Types of Regularization\n",
    "1. **L1 Regularization (used in Lasso Regression)**  \n",
    "LASSO stands for Least Absolute Shrinkage and Selection Operator.  \n",
    "This regularization will shrink some parameters to **Zero**. Hence, this type of regularization can also help in **Feature Selection** in the model. As $\\lambda$ grows bigger, more shrinkage in parameters will occur.\n",
    "$$ J(\\theta)=RSS+\\lambda \\sum_{j=1}^n|\\theta_j| $$   \n",
    "2. **L2 Regularization (used in Ridge Regression)**  \n",
    "Parameters decrease progressively as $\\lambda$ grows larger, **but are never cut to zero.**\n",
    "$$ J(\\theta)=RSS+\\lambda \\sum_{j=1}^n(\\theta_j^2) $$ \n",
    "3. **L1/L2 Regularization (used in Elastic Net Regression)**  \n",
    "Elastic-net is a mix of both L1 and L2 regularization. Lambda is a shared penalization parameter while alpha sets the ratio between L1 and L2 regularization in the Elastic Net Regularization.\n",
    "$$ J(\\theta)=RSS+\\lambda[(1-\\alpha)\\sum_{j=1}^n(\\theta_j^2)+\\alpha\\sum_{j=1}^n|\\theta_j|]$$ \n",
    "\n",
    "##### Geometric Perspective on Regularization\n",
    "Lasso, Ridge and Elastic-Net regularization can also be viewed as a **constraint** added to **optimization** process. Lasso error minimization can be written as :\n",
    "$$ minimize(RSS)\\;\\;\\;\\;subject\\;to\\; \\sum_{j=1}^n|\\theta_j|<t$$\n",
    "Ridge error minimization can be written as :\n",
    "$$ minimize(RSS)\\;\\;\\;\\;subject\\;to\\; \\sum_{j=1}^n(\\theta_j)^2<t$$\n",
    "\n",
    "<img src=\"https://cdn-images-1.medium.com/max/1500/1*lFnKhQwmxt8XvP4wTYYJbw.png\" width=\"600\">\n",
    "\n",
    "For the L1 regularization, the constraint region ($|\\theta_1|+|\\theta_2|<t$) is a diamond, this means that the loss function(RSS) contours has some chances of touching the corners of diamond at $\\beta_1$ or $\\beta_2$ axis, **setting some of the lasso coeffcients to zero**. While for the L2 regularization the constraint reigon ($\\theta_1^2+\\theta_2^2<t$) is a circle, thus it has no corners and the coefficients can not be equal to zero.\n",
    "\n",
    "**Regularized Cost Function :**\n",
    "$$ J(\\theta)= \\frac{-1}{m}\\sum_{i=0}^m[y^{(i)}log(h_\\theta(x^{(i)}))+(1-y^{(i)})log(1-h_\\theta(x^{(i)})]+\\frac{\\lambda}{2m}\\sum_{j=1}^n\\theta_j^2$$  \n",
    "**Regularized Gradient Descent :**\n",
    "$$ \\theta_j:=\\theta_j-\\frac{\\alpha}{m}(\\sum_{i=0}^m(h_\\theta(x^{(i)})-y^{(i)})x_j^{(i)})\\;\\;\\text{ , for}\\;j=0 $$\n",
    "\n",
    "$$ \\theta_j:=\\theta_j-\\frac{\\alpha}{m}(\\sum_{i=0}^m(h_\\theta(x^{(i)})-y^{(i)})x_j^{(i)}+\\lambda\\theta_j)\\;\\;\\text{ , for}\\;j\\neq0 $$\n"
   ]
  },
  {
   "cell_type": "markdown",
   "metadata": {},
   "source": [
    "##### 2.3.1&nbsp;&nbsp;&nbsp;&nbsp;Learning Parameters"
   ]
  },
  {
   "cell_type": "code",
   "execution_count": 22,
   "metadata": {},
   "outputs": [],
   "source": [
    "def regularizedGradientDescent(X,y,theta,alpha,lmbda,iterations):\n",
    "    '''Minimizes the cost function using Gradient Descent Optimization Algorithm'''\n",
    "    m=X.shape[0]\n",
    "    jHistory=[]\n",
    "    for i in range(iterations):\n",
    "        h=predict(X,theta)\n",
    "        # Computing cost\n",
    "        J=computeCost(h,y)\n",
    "        # Adding the regularized term\n",
    "        J=J+(lmbda/(2*m))*np.sum(np.power(theta[:,1:],2))\n",
    "        jHistory.append(J)\n",
    "        # Parameters update rule\n",
    "        gradient=(alpha/m)*(np.dot((h-y).T,X))\n",
    "        # Adding the regularized term\n",
    "        gradient=gradient+(alpha/m)*lmbda*np.column_stack((np.zeros((1,1)),theta[:,1:]))\n",
    "        theta=theta-gradient\n",
    "    return (theta,jHistory)"
   ]
  },
  {
   "cell_type": "markdown",
   "metadata": {},
   "source": [
    "#### 2.4&nbsp;&nbsp;&nbsp;&nbsp;Plotting the decision boundary"
   ]
  },
  {
   "cell_type": "code",
   "execution_count": 23,
   "metadata": {},
   "outputs": [],
   "source": [
    "def plotDecisionBoundary(theta,data,y,axis):\n",
    "    sns.scatterplot(x='test1',y='test2',data=data[data['result']==0],label='Rejected',ax=axis);\n",
    "    sns.scatterplot(x='test1',y='test2',data=data[data['result']==1],label='Accepted',ax=axis);\n",
    "    u=np.linspace(-1,1.5)\n",
    "    v=np.linspace(-1,1.5)\n",
    "    z=np.zeros(shape=(len(u),len(v)))\n",
    "    # Evaluate z=X*theta over the grid\n",
    "    for i in range(len(u)):\n",
    "        for j in range(len(v)):\n",
    "            X=mapFeature(np.reshape(u[i],(1,1)),np.reshape(v[j],(1,1)),degree)\n",
    "            z[i,j]=np.dot(X,theta.T)\n",
    "    z=z.T\n",
    "    axis.contour(u,v,z,levels=[0])"
   ]
  },
  {
   "cell_type": "markdown",
   "metadata": {},
   "source": [
    "#### Models with different $\\lambda$ values"
   ]
  },
  {
   "cell_type": "code",
   "execution_count": 25,
   "metadata": {},
   "outputs": [
    {
     "data": {
      "image/png": "[encoded data removed]",
      "text/plain": [
       "<Figure size 1296x576 with 6 Axes>"
      ]
     },
     "metadata": {
      "needs_background": "light"
     },
     "output_type": "display_data"
    }
   ],
   "source": [
    "degree=6\n",
    "lmbdas=[0,1,100]\n",
    "alphas=[10,0.03,0.03]\n",
    "iterations=[40000,10000,10000]\n",
    "\n",
    "labels=['No Regularization (Overfitting)','Regularization (Just Right)','Too much Regularization (Underfitting)']\n",
    "\n",
    "nrows,ncols=2,3\n",
    "fig,ax=plt.subplots(nrows,ncols,figsize=(18,8))\n",
    "fig.suptitle('Models with different lambda values',size=16)\n",
    "\n",
    "for i in range(ncols):\n",
    "    X=mapFeature(data['test1'],data['test2'],degree)\n",
    "    y=data.values[:,2]\n",
    "    y=y[:,np.newaxis]\n",
    "    theta=np.zeros(shape=(1,X.shape[1]))\n",
    "    theta,jHistory=regularizedGradientDescent(X,y,theta,alphas[i],lmbdas[i],iterations[i])\n",
    "    axis1=ax[0][i]\n",
    "    axis1.set_title(f'{labels[i]}\\nlambda = {lmbdas[i]} | Cost = {jHistory[iterations[i]-1]:.3f}')\n",
    "    plotDecisionBoundary(theta,data,y,axis1)\n",
    "    axis2=ax[1][i]\n",
    "    c=sns.distplot(theta[0],ax=axis2,kde=False)\n",
    "    c.set(xlabel=f'Theta{i+1} Values',ylabel='Frequency')"
   ]
  },
  {
   "cell_type": "markdown",
   "metadata": {},
   "source": [
    "<img src='https://memegenerator.net/img/instances/55349650.jpg' width='300' height='300'>"
   ]
  }
 ],
 "metadata": {
  "kernelspec": {
   "display_name": "Python 3",
   "language": "python",
   "name": "python3"
  },
  "language_info": {
   "codemirror_mode": {
    "name": "ipython",
    "version": 3
   },
   "file_extension": ".py",
   "mimetype": "text/x-python",
   "name": "python",
   "nbconvert_exporter": "python",
   "pygments_lexer": "ipython3",
   "version": "3.7.1"
  }
 },
 "nbformat": 4,
 "nbformat_minor": 2
}
