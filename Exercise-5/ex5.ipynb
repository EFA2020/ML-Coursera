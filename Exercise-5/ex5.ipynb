{
 "cells": [
  {
   "cell_type": "markdown",
   "metadata": {},
   "source": [
    "## Programming Exercise 5: Regularized Linear Regression and Bias v.s. Variance\n",
    "#### Author - Rishabh Jain"
   ]
  },
  {
   "cell_type": "code",
   "execution_count": 1,
   "metadata": {},
   "outputs": [],
   "source": [
    "import matplotlib.pyplot as plt\n",
    "import seaborn as sns\n",
    "import pandas as pd\n",
    "import numpy as np\n",
    "%matplotlib inline\n",
    "\n",
    "from scipy.io import loadmat"
   ]
  },
  {
   "cell_type": "markdown",
   "metadata": {},
   "source": [
    "### 1&nbsp;&nbsp;&nbsp;&nbsp;Regularized Linear Regression\n",
    "\n",
    "#### Problem Statement\n",
    "In this part of the exercise, we will implement regularized linear regression to predict the amount of water flowing out of a dam using the change of water level in reservoir."
   ]
  },
  {
   "cell_type": "code",
   "execution_count": 2,
   "metadata": {},
   "outputs": [
    {
     "name": "stdout",
     "output_type": "stream",
     "text": [
      "__header__\n",
      "__version__\n",
      "__globals__\n",
      "X\n",
      "y\n",
      "Xtest\n",
      "ytest\n",
      "Xval\n",
      "yval\n"
     ]
    }
   ],
   "source": [
    "# Loading Mat file\n",
    "mat=loadmat('./ex5data1.mat')\n",
    "print(*mat.keys(),sep='\\n')"
   ]
  },
  {
   "cell_type": "code",
   "execution_count": 3,
   "metadata": {},
   "outputs": [
    {
     "name": "stdout",
     "output_type": "stream",
     "text": [
      "TRAINING DATASET SHAPE : 12 X 2\n"
     ]
    },
    {
     "data": {
      "text/html": [
       "<div>\n",
       "<style scoped>\n",
       "    .dataframe tbody tr th:only-of-type {\n",
       "        vertical-align: middle;\n",
       "    }\n",
       "\n",
       "    .dataframe tbody tr th {\n",
       "        vertical-align: top;\n",
       "    }\n",
       "\n",
       "    .dataframe thead th {\n",
       "        text-align: right;\n",
       "    }\n",
       "</style>\n",
       "<table border=\"1\" class=\"dataframe\">\n",
       "  <thead>\n",
       "    <tr style=\"text-align: right;\">\n",
       "      <th></th>\n",
       "      <th>X</th>\n",
       "      <th>y</th>\n",
       "    </tr>\n",
       "  </thead>\n",
       "  <tbody>\n",
       "    <tr>\n",
       "      <th>0</th>\n",
       "      <td>-15.936758</td>\n",
       "      <td>2.134311</td>\n",
       "    </tr>\n",
       "    <tr>\n",
       "      <th>1</th>\n",
       "      <td>-29.152979</td>\n",
       "      <td>1.173257</td>\n",
       "    </tr>\n",
       "    <tr>\n",
       "      <th>2</th>\n",
       "      <td>36.189549</td>\n",
       "      <td>34.359109</td>\n",
       "    </tr>\n",
       "    <tr>\n",
       "      <th>3</th>\n",
       "      <td>37.492187</td>\n",
       "      <td>36.837955</td>\n",
       "    </tr>\n",
       "    <tr>\n",
       "      <th>4</th>\n",
       "      <td>-48.058829</td>\n",
       "      <td>2.808965</td>\n",
       "    </tr>\n",
       "    <tr>\n",
       "      <th>5</th>\n",
       "      <td>-8.941458</td>\n",
       "      <td>2.121072</td>\n",
       "    </tr>\n",
       "    <tr>\n",
       "      <th>6</th>\n",
       "      <td>15.307793</td>\n",
       "      <td>14.710268</td>\n",
       "    </tr>\n",
       "    <tr>\n",
       "      <th>7</th>\n",
       "      <td>-34.706266</td>\n",
       "      <td>2.614184</td>\n",
       "    </tr>\n",
       "    <tr>\n",
       "      <th>8</th>\n",
       "      <td>1.389154</td>\n",
       "      <td>3.740172</td>\n",
       "    </tr>\n",
       "    <tr>\n",
       "      <th>9</th>\n",
       "      <td>-44.383760</td>\n",
       "      <td>3.731691</td>\n",
       "    </tr>\n",
       "    <tr>\n",
       "      <th>10</th>\n",
       "      <td>7.013502</td>\n",
       "      <td>7.627659</td>\n",
       "    </tr>\n",
       "    <tr>\n",
       "      <th>11</th>\n",
       "      <td>22.762749</td>\n",
       "      <td>22.752428</td>\n",
       "    </tr>\n",
       "  </tbody>\n",
       "</table>\n",
       "</div>"
      ],
      "text/plain": [
       "            X          y\n",
       "0  -15.936758   2.134311\n",
       "1  -29.152979   1.173257\n",
       "2   36.189549  34.359109\n",
       "3   37.492187  36.837955\n",
       "4  -48.058829   2.808965\n",
       "5   -8.941458   2.121072\n",
       "6   15.307793  14.710268\n",
       "7  -34.706266   2.614184\n",
       "8    1.389154   3.740172\n",
       "9  -44.383760   3.731691\n",
       "10   7.013502   7.627659\n",
       "11  22.762749  22.752428"
      ]
     },
     "execution_count": 3,
     "metadata": {},
     "output_type": "execute_result"
    }
   ],
   "source": [
    "# Loading training data from mat to Dataframe\n",
    "m,n=mat['X'].shape\n",
    "\n",
    "data=pd.DataFrame()\n",
    "data['X']=mat['X'].reshape(-1)\n",
    "data['y']=mat['y'].reshape(-1)\n",
    "\n",
    "print('TRAINING DATASET SHAPE : {0} X {1}'.format(*data.shape))\n",
    "data"
   ]
  },
  {
   "cell_type": "markdown",
   "metadata": {},
   "source": [
    "#### 1.1&nbsp;&nbsp;&nbsp;&nbsp;Visualizing the dataset\n",
    "\n",
    "We will begin by visualizing the dataset containing the historical records on the change in water level ($X$), and the amount of water flowing out of the dam ($y$). As we can notice from the above cell, that this dataset is divided into three parts :\n",
    "\n",
    "* **Training set** - We will use $X$ and $y$ to train our model.\n",
    "* **Cross valiation set** - We will use $Xval$ and $yval$ for determining the regularization parameters.\n",
    "* **Test set** - We will use $Xtest$ and $ytest$ for evaluating model performance. These are the 'unseen' examples which our model did not see during training."
   ]
  },
  {
   "cell_type": "code",
   "execution_count": 4,
   "metadata": {},
   "outputs": [
    {
     "data": {
      "image/png": "[encoded data removed]",
      "text/plain": [
       "<Figure size 432x288 with 1 Axes>"
      ]
     },
     "metadata": {
      "needs_background": "light"
     },
     "output_type": "display_data"
    }
   ],
   "source": [
    "ax=sns.scatterplot(data['X'],data['y']);\n",
    "ax.set(xlabel='Change in water level (x)',ylabel='Water flowing out of the dam (y)');"
   ]
  },
  {
   "cell_type": "markdown",
   "metadata": {},
   "source": [
    "#### 1.2&nbsp;&nbsp;&nbsp;&nbsp;Regularized linear regression cost function\n",
    "\n",
    "We discussed the three types of regularization in [Exercise-2](http://localhost:8888/notebooks/Documents/Personal/GitHub/ML-Coursera/Exercise-2/ex2.ipynb#Types-of-Regularization). Regularized cost function in linear regression looks something like this :\n",
    "\n",
    "$$ J(\\theta)=\\frac{1}{2m}[\\sum_{i=1}^{m}(h_{\\theta}(x^{(i)})-y^{(i)})^2+\\lambda\\sum_{j=1}^n\\theta_j^2] $$\n",
    "\n",
    "where $\\lambda$ is a regularization parameter which controls the degree of regularization, thus help preventing overfitting. The regularizartion parameter puts a penalty on overall cost $J$. As the magnitude of model parameters $\\theta_j$ increases, the penalty increases as well."
   ]
  },
  {
   "cell_type": "markdown",
   "metadata": {},
   "source": [
    "#### 1.3&nbsp;&nbsp;&nbsp;&nbsp;Regularized linear regression gradient\n",
    "\n",
    "Correspondingly, the partial derivative of regularized linear regression's cost for $J$ is defined as :\n",
    "\n",
    "$$ \\frac{\\partial}{\\partial{\\theta_0}}J(\\theta)=\\frac{1}{m}\\sum_{i=1}^m(h_\\theta(x^{(i)})-y^{(i)})x_j^{(i)}\\;\\;\\;\\;\\text{for }j=0 $$\n",
    "\n",
    "$$ \\frac{\\partial}{\\partial{\\theta_0}}J(\\theta)=\\frac{1}{m}[\\sum_{i=1}^m(h_\\theta(x^{(i)})-y^{(i)})x_j^{(i)}+\\lambda\\theta_j]\\;\\;\\;\\;\\text{for }j\\geq1 $$\n",
    "\n",
    "**Using Gradient Descent Optimization Algorithm**\n",
    "$$ \\theta_j := \\theta_j - \\alpha \\frac{\\partial}{\\partial \\theta_j}J(\\theta) $$  "
   ]
  },
  {
   "cell_type": "code",
   "execution_count": 5,
   "metadata": {},
   "outputs": [],
   "source": [
    "def predict(X,theta):\n",
    "    '''Predicts using the Linear Model'''\n",
    "    h=np.dot(X,theta.T)\n",
    "    return h"
   ]
  },
  {
   "cell_type": "code",
   "execution_count": 6,
   "metadata": {},
   "outputs": [],
   "source": [
    "def computeCost(X,y,theta,lmbda):\n",
    "    '''Computes and returns the cost and gradient'''\n",
    "    m=y.shape[0]\n",
    "    h=predict(X,theta)\n",
    "    J=(1/(2*m))*(np.power(h-y,2).sum()+lmbda*np.power(theta[:,1:],2).sum())\n",
    "    grad=(1/m)*(np.dot((h-y).T,X)+lmbda*np.column_stack((np.zeros(shape=(1,1)),theta[:,1:])))\n",
    "    return (J,grad)"
   ]
  },
  {
   "cell_type": "code",
   "execution_count": 7,
   "metadata": {},
   "outputs": [
    {
     "name": "stdout",
     "output_type": "stream",
     "text": [
      "REGULARIZED COST FUNCTION : 303.993\n",
      "GRADIENT : [-15.30301567 598.25074417]\n"
     ]
    }
   ],
   "source": [
    "X=data['X']\n",
    "# Adding intercept column\n",
    "X=np.column_stack((np.ones((m,1)),X))\n",
    "y=data['y'].values.reshape((-1,1))\n",
    "theta=np.ones((1,2))\n",
    "lmbda=1\n",
    "\n",
    "J,grad=computeCost(X,y,theta,lmbda)\n",
    "print(f'REGULARIZED COST FUNCTION : {J:.3f}')\n",
    "print(f'GRADIENT : {grad[0]}')"
   ]
  },
  {
   "cell_type": "markdown",
   "metadata": {},
   "source": [
    "#### 1.4&nbsp;&nbsp;&nbsp;&nbsp;Fitting linear regression\n",
    "\n",
    "**In this part, we set the regularization parameter $\\lambda$ to zero. Because our current implementation is trying to fit 2-dimensional $\\theta$, regularization will not be incredibly helpful for a $\\theta$ of such low dimension.**"
   ]
  },
  {
   "cell_type": "code",
   "execution_count": 8,
   "metadata": {},
   "outputs": [],
   "source": [
    "def train(X,y,alpha,lmbda,iterations):\n",
    "    '''Trains the linear regression model using gradient descent optimization algorithm'''\n",
    "    theta=np.zeros((1,X.shape[1]))\n",
    "    jHistory=[]\n",
    "    for i in range(iterations):\n",
    "        J,grad=computeCost(X,y,theta,lmbda)\n",
    "        theta=theta-alpha*grad\n",
    "        jHistory.append(J)\n",
    "    return jHistory,theta"
   ]
  },
  {
   "cell_type": "code",
   "execution_count": 9,
   "metadata": {
    "scrolled": true
   },
   "outputs": [
    {
     "data": {
      "image/png": "[encoded data removed]",
      "text/plain": [
       "<Figure size 864x288 with 2 Axes>"
      ]
     },
     "metadata": {
      "needs_background": "light"
     },
     "output_type": "display_data"
    }
   ],
   "source": [
    "alpha=0.001\n",
    "lmbda=0\n",
    "iterations=4000\n",
    "\n",
    "# Training\n",
    "jHistory,theta=train(X,y,alpha,lmbda,iterations)\n",
    "\n",
    "# Plotting cost curve\n",
    "fig,ax=plt.subplots(nrows=1,ncols=2,figsize=(12,4))\n",
    "ch1=sns.lineplot(range(iterations),jHistory,ax=ax[0])\n",
    "ch1.set(xlabel='Iterations',yLabel='Cost')\n",
    "ax[0].set_title(f'COST : {jHistory[iterations-1]:.2f}')\n",
    "\n",
    "# Plotting model and data\n",
    "sns.scatterplot(data['X'],data['y'],color='red',marker='x',ax=ax[1])\n",
    "ch2=sns.lineplot(data['X'],predict(X,theta).reshape(-1),ax=ax[1])\n",
    "ch2.set(xlabel='Change in water level (x)',ylabel='Water flowing out of the dam (y)')\n",
    "ax[1].set_title('LINEAR FIT');"
   ]
  },
  {
   "cell_type": "markdown",
   "metadata": {},
   "source": [
    "**The best fit line tells us that the model is not a good fit for the data because the data has non linear pattern.**\n",
    "\n",
    "While visualizing the best fit as shown above is one possible way to debug you learning algorithm, but it is not always easy to visualize the data and model. In the next exercise, we will implement a function to generate learning curves that can help us debug our learning algorithm even if it is not easy to visualize the data and the model."
   ]
  },
  {
   "cell_type": "markdown",
   "metadata": {},
   "source": [
    "### 2&nbsp;&nbsp;&nbsp;&nbsp;Bias-Variance\n",
    "\n",
    "An important concept in Machine Learning is **Bias-Variance tradeoff**. Models with high bias are not complex enough for the data and tend to underfit. while models with high variance overfit the training data.\n",
    "\n",
    "#### 2.1&nbsp;&nbsp;&nbsp;&nbsp;Learning curves\n",
    "\n",
    "In this part of the exercise, we will plot training and test errors on a learning curve to diagnose bias-variance problem.\n",
    "To plot the learning cruve, we need a training and cross validation set error for different training set sizes."
   ]
  },
  {
   "cell_type": "code",
   "execution_count": 10,
   "metadata": {},
   "outputs": [],
   "source": [
    "def learningCurve(X,y,Xval,yval,alpha,lmbda,iterations):\n",
    "    '''Generates the train and cross validation set errors needed to plot a learning curve'''\n",
    "    m=X.shape[0]\n",
    "    errorTrain,errorVal=[],[]\n",
    "    # Training model with different training set size\n",
    "    for i in range(1,m+1):\n",
    "        theta=train(X[:i,:],y[:i],alpha,lmbda,iterations)[1]\n",
    "        # Computing training error using learned parameters\n",
    "        errorTrain.append(computeCost(X[:i,:],y[:i],theta,lmbda)[0])\n",
    "        # Computing cross validation error for the entire validation set\n",
    "        errorVal.append(computeCost(Xval,yval,theta,lmbda)[0])\n",
    "    return (errorTrain,errorVal)"
   ]
  },
  {
   "cell_type": "code",
   "execution_count": 11,
   "metadata": {},
   "outputs": [
    {
     "data": {
      "image/png": "[encoded data removed]",
      "text/plain": [
       "<Figure size 432x288 with 1 Axes>"
      ]
     },
     "metadata": {
      "needs_background": "light"
     },
     "output_type": "display_data"
    }
   ],
   "source": [
    "Xval=mat['Xval']\n",
    "Xval=np.column_stack((np.ones((Xval.shape[0],1)),Xval))\n",
    "yval=mat['yval'].reshape((-1,1))\n",
    "\n",
    "errorTrain,errorVal=learningCurve(X,y,Xval,yval,alpha,lmbda,iterations)\n",
    "sns.lineplot(range(1,m+1),errorTrain,label='Train')\n",
    "ch=sns.lineplot(range(1,m+1),errorVal,label='Cross Validation')\n",
    "ch.set(xlabel='# training examples',ylabel='Error',title='Learning curve for linear regression');"
   ]
  },
  {
   "cell_type": "markdown",
   "metadata": {},
   "source": [
    "In the above figure, we can observe that both the train and cross validation error are high when the number of training examples is increased. This reflects a **high bias** problem in our model - the linear regression model is too simple and unable to fit our dataset well."
   ]
  },
  {
   "cell_type": "markdown",
   "metadata": {},
   "source": [
    "### 3&nbsp;&nbsp;&nbsp;&nbsp;Polynomial Regression\n",
    "\n",
    "Thr problem with our linear model was that it was too simple for the data and resulted in underfitting (high bias). In this part of the exercise, we will address the problem by adding more features. For polynomial regression, our hypothesis has the form : \n",
    "\n",
    "$ h_\\theta(x)=\\theta_0+\\theta_1*(waterLevel)+\\theta_2*(waterLevel)^{2}+...++\\theta_p*(waterLevel)^{p} $  \n",
    "$ \\;\\;\\;\\;\\;\\;\\;\\;=\\theta_0+\\theta_1*x_1+\\theta_2*x_2+...++\\theta_p*x_p $\n",
    "\n",
    "Notice that by defining $x_1=(waterLevel)$, $x_2=(waterLevel)^2$ ,.., $x_p=(waterLevel)^p$, we obtain a linear regression model where the features are the varipous powers of the original value (waterLevel)."
   ]
  },
  {
   "cell_type": "code",
   "execution_count": 12,
   "metadata": {},
   "outputs": [],
   "source": [
    "def polyFeatures(X,p):\n",
    "    '''Maps each example into its p polynomial features'''\n",
    "    xPoly=np.zeros(shape=(X.shape[0],p))\n",
    "    for i in range(1,p+1):\n",
    "        xPoly[:,i-1]=np.power(X,i)\n",
    "    return xPoly"
   ]
  },
  {
   "cell_type": "markdown",
   "metadata": {},
   "source": [
    "#### 3.1&nbsp;&nbsp;&nbsp;&nbsp;Learning Polynomial Regression\n",
    "\n",
    "Keep in mind that even though we have polynomial terms in our feature vector, we are still solving a linear regression optimization problem. The polynomial terms have simply turned into features that we can use for linear regression.\n",
    "\n",
    "For this part of the exercise, we will use a polynomial of degree 8. **It turns out that if we run the training directly on projected data, model will not work well as the features would be badly scaled** (e.g. a sample with $x=40$ will now have a feature $ x_8=40^8=6.5X10^{12} $)."
   ]
  },
  {
   "cell_type": "code",
   "execution_count": 13,
   "metadata": {},
   "outputs": [],
   "source": [
    "def featureNormalize(X,mean=None,std=None):\n",
    "    '''Normalizes the Design Matrix'''\n",
    "    if type(mean)== type(None) and type(std)==type(None):\n",
    "        mean=X.mean(axis=0)\n",
    "        std=X.std(axis=0)\n",
    "    xNorm=(X-mean)/std\n",
    "    return (xNorm,mean,std)"
   ]
  },
  {
   "cell_type": "code",
   "execution_count": 14,
   "metadata": {},
   "outputs": [
    {
     "data": {
      "image/png": "[encoded data removed]",
      "text/plain": [
       "<Figure size 864x288 with 2 Axes>"
      ]
     },
     "metadata": {
      "needs_background": "light"
     },
     "output_type": "display_data"
    }
   ],
   "source": [
    "alpha=0.1\n",
    "lmbda=0\n",
    "iterations=4000\n",
    "p=8\n",
    "\n",
    "# Mapping X onto polynomial features\n",
    "xPoly=polyFeatures(data['X'],p)\n",
    "# Normalize features\n",
    "xPoly,mean,std=featureNormalize(xPoly)\n",
    "# Adding intercept column\n",
    "xPoly=np.column_stack((np.ones((m,1)),xPoly))\n",
    "\n",
    "# Training\n",
    "jHistory,theta=train(xPoly,y,alpha,lmbda,iterations)\n",
    "\n",
    "# Plotting cost curve\n",
    "fig,ax=plt.subplots(nrows=1,ncols=2,figsize=(12,4))\n",
    "ch1=sns.lineplot(range(iterations),jHistory,ax=ax[0])\n",
    "ch1.set(xlabel='Iterations',yLabel='Cost')\n",
    "ax[0].set_title(f'COST : {jHistory[iterations-1]:.2f}')\n",
    "\n",
    "# Plotting data \n",
    "sns.scatterplot(data['X'],data['y'],color='red',marker='x',ax=ax[1])\n",
    "# Plotting model with extremes\n",
    "x=np.linspace(data['X'].min()-15,data['X'].max()+25)\n",
    "xTemp=polyFeatures(x,p)\n",
    "# Normalizing with training set mean and std\n",
    "xTemp=featureNormalize(xTemp,mean,std)[0]\n",
    "xTemp=np.column_stack((np.ones((xTemp.shape[0],1)),xTemp))\n",
    "ch2=sns.lineplot(x,predict(xTemp,theta).reshape(-1),ax=ax[1])\n",
    "ch2.set(xlabel='Change in water level (x)',ylabel='Water flowing out of the dam (y)')\n",
    "ax[1].set_title(f'POLYNOMIAL FIT, lambda={lmbda}');"
   ]
  },
  {
   "cell_type": "markdown",
   "metadata": {},
   "source": [
    "From the above figure in right, we can see that the polynomial fit is able to follow the datapoints very well - thus, obtaining a low training error. However , the polynomial fit is very complex and even drops off at the extremes. This is an indicator that the polynomial regression model is overfitting the training data and will not generalize well.\n",
    "\n",
    "**Let's try to understand the above conclusion using learning curve.**"
   ]
  },
  {
   "cell_type": "code",
   "execution_count": 15,
   "metadata": {},
   "outputs": [
    {
     "data": {
      "image/png": "[encoded data removed]",
      "text/plain": [
       "<Figure size 432x288 with 1 Axes>"
      ]
     },
     "metadata": {
      "needs_background": "light"
     },
     "output_type": "display_data"
    }
   ],
   "source": [
    "# Mapping X onto polynomial features\n",
    "xValPoly=polyFeatures(mat['Xval'].reshape(-1),p)\n",
    "# Normalize features\n",
    "xValPoly=featureNormalize(xValPoly,mean,std)[0]\n",
    "# Adding intercept column\n",
    "xValPoly=np.column_stack((np.ones((xValPoly.shape[0],1)),xValPoly))\n",
    "\n",
    "errorTrain,errorVal=learningCurve(xPoly,y,xValPoly,yval,alpha,lmbda,iterations)\n",
    "sns.lineplot(range(1,m+1),errorTrain,label='Train')\n",
    "ch=sns.lineplot(range(1,m+1),errorVal,label='Cross Validation')\n",
    "ch.set(xlabel='# training examples',ylabel='Error',title=f'Learning curve for Polynomial regression (lambda={lmbda})');"
   ]
  },
  {
   "cell_type": "markdown",
   "metadata": {},
   "source": [
    "To better understand the problems with the unregularized ($\\lambda=0$) model, we can see that the learning curve shows the same effect where the training error is low, but the cross validation error is high, There is a gap between the training and cross validation errors, indicating a **high variance** problem.\n",
    "\n",
    "**One way to combat the overfitting (high-variance) problem is to add regularization to the model.**"
   ]
  }
 ],
 "metadata": {
  "kernelspec": {
   "display_name": "Python 3",
   "language": "python",
   "name": "python3"
  },
  "language_info": {
   "codemirror_mode": {
    "name": "ipython",
    "version": 3
   },
   "file_extension": ".py",
   "mimetype": "text/x-python",
   "name": "python",
   "nbconvert_exporter": "python",
   "pygments_lexer": "ipython3",
   "version": "3.7.1"
  }
 },
 "nbformat": 4,
 "nbformat_minor": 2
}
