{
 "cells": [
  {
   "cell_type": "markdown",
   "metadata": {},
   "source": [
    "## Programming Exercise 4: Neural Networks Learning\n",
    "#### Author - Rishabh Jain"
   ]
  },
  {
   "cell_type": "code",
   "execution_count": 1,
   "metadata": {},
   "outputs": [],
   "source": [
    "import matplotlib.pyplot as plt\n",
    "import seaborn as sns\n",
    "import pandas as pd\n",
    "import numpy as np\n",
    "%matplotlib inline\n",
    "\n",
    "from scipy.io import loadmat"
   ]
  },
  {
   "cell_type": "markdown",
   "metadata": {},
   "source": [
    "#### Learning Resources\n",
    "\n",
    "1. [What is a Neural Network??](https://www.youtube.com/watch?v=aircAruvnKk&list=PLZHQObOWTQDNU6R1_67000Dx_ZCJB-3pi)\n",
    "2. [Gradient Descent, how neural networks learn?](https://www.youtube.com/watch?v=IHZwWFHWa-w&list=PLZHQObOWTQDNU6R1_67000Dx_ZCJB-3pi&index=2)\n",
    "3. [What is Backpropagation really doing?](https://www.youtube.com/watch?v=Ilg3gGewQ5U&list=PLZHQObOWTQDNU6R1_67000Dx_ZCJB-3pi&index=3)\n",
    "4. [Backpropagation Calculus](https://www.youtube.com/watch?v=tIeHLnjs5U8&list=PLZHQObOWTQDNU6R1_67000Dx_ZCJB-3pi&index=4)"
   ]
  },
  {
   "cell_type": "markdown",
   "metadata": {},
   "source": [
    "### 1&nbsp;&nbsp;&nbsp;&nbsp;Neural Networks\n",
    "\n",
    "##### Problem Statement\n",
    "In the previous exercise, we implemented feedforward propagation for neural networks and used it to predict handwritten digits with the provided weights. **In this exercise, we will implement the backpropagation algorithm to learn the parameters for the neural network.**\n",
    "\n",
    "We will use the same dataset that we used in the previous exercise. There are 5000 training examples, where each example is 20 X 20 pixel image of a handwritten digit. Each pixel is represented by a floating point number indicating the graysacle intensity at that location. This 20 by 20 grid of pixels is 'unrolled' into a 400 dimensional vector."
   ]
  },
  {
   "cell_type": "code",
   "execution_count": 2,
   "metadata": {},
   "outputs": [
    {
     "name": "stdout",
     "output_type": "stream",
     "text": [
      "__header__\n",
      "__version__\n",
      "__globals__\n",
      "X\n",
      "y\n"
     ]
    }
   ],
   "source": [
    "# Loading Mat file\n",
    "mat=loadmat('./ex4data1.mat')\n",
    "print(*mat.keys(),sep='\\n')"
   ]
  },
  {
   "cell_type": "code",
   "execution_count": 3,
   "metadata": {},
   "outputs": [
    {
     "name": "stdout",
     "output_type": "stream",
     "text": [
      "TRAINING DATASET SHAPE : 5000 X 401\n"
     ]
    },
    {
     "data": {
      "text/html": [
       "<div>\n",
       "<style scoped>\n",
       "    .dataframe tbody tr th:only-of-type {\n",
       "        vertical-align: middle;\n",
       "    }\n",
       "\n",
       "    .dataframe tbody tr th {\n",
       "        vertical-align: top;\n",
       "    }\n",
       "\n",
       "    .dataframe thead th {\n",
       "        text-align: right;\n",
       "    }\n",
       "</style>\n",
       "<table border=\"1\" class=\"dataframe\">\n",
       "  <thead>\n",
       "    <tr style=\"text-align: right;\">\n",
       "      <th></th>\n",
       "      <th>x1</th>\n",
       "      <th>x2</th>\n",
       "      <th>x3</th>\n",
       "      <th>x4</th>\n",
       "      <th>x5</th>\n",
       "      <th>x6</th>\n",
       "      <th>x7</th>\n",
       "      <th>x8</th>\n",
       "      <th>x9</th>\n",
       "      <th>x10</th>\n",
       "      <th>...</th>\n",
       "      <th>x392</th>\n",
       "      <th>x393</th>\n",
       "      <th>x394</th>\n",
       "      <th>x395</th>\n",
       "      <th>x396</th>\n",
       "      <th>x397</th>\n",
       "      <th>x398</th>\n",
       "      <th>x399</th>\n",
       "      <th>x400</th>\n",
       "      <th>y</th>\n",
       "    </tr>\n",
       "  </thead>\n",
       "  <tbody>\n",
       "    <tr>\n",
       "      <th>1381</th>\n",
       "      <td>0.0</td>\n",
       "      <td>0.0</td>\n",
       "      <td>0.0</td>\n",
       "      <td>0.0</td>\n",
       "      <td>0.0</td>\n",
       "      <td>0.0</td>\n",
       "      <td>0.0</td>\n",
       "      <td>0.0</td>\n",
       "      <td>0.0</td>\n",
       "      <td>0.0</td>\n",
       "      <td>...</td>\n",
       "      <td>0.0</td>\n",
       "      <td>0.0</td>\n",
       "      <td>0.0</td>\n",
       "      <td>0.0</td>\n",
       "      <td>0.0</td>\n",
       "      <td>0.0</td>\n",
       "      <td>0.0</td>\n",
       "      <td>0.0</td>\n",
       "      <td>0.0</td>\n",
       "      <td>2</td>\n",
       "    </tr>\n",
       "    <tr>\n",
       "      <th>3025</th>\n",
       "      <td>0.0</td>\n",
       "      <td>0.0</td>\n",
       "      <td>0.0</td>\n",
       "      <td>0.0</td>\n",
       "      <td>0.0</td>\n",
       "      <td>0.0</td>\n",
       "      <td>0.0</td>\n",
       "      <td>0.0</td>\n",
       "      <td>0.0</td>\n",
       "      <td>0.0</td>\n",
       "      <td>...</td>\n",
       "      <td>0.0</td>\n",
       "      <td>0.0</td>\n",
       "      <td>0.0</td>\n",
       "      <td>0.0</td>\n",
       "      <td>0.0</td>\n",
       "      <td>0.0</td>\n",
       "      <td>0.0</td>\n",
       "      <td>0.0</td>\n",
       "      <td>0.0</td>\n",
       "      <td>6</td>\n",
       "    </tr>\n",
       "    <tr>\n",
       "      <th>2581</th>\n",
       "      <td>0.0</td>\n",
       "      <td>0.0</td>\n",
       "      <td>0.0</td>\n",
       "      <td>0.0</td>\n",
       "      <td>0.0</td>\n",
       "      <td>0.0</td>\n",
       "      <td>0.0</td>\n",
       "      <td>0.0</td>\n",
       "      <td>0.0</td>\n",
       "      <td>0.0</td>\n",
       "      <td>...</td>\n",
       "      <td>0.0</td>\n",
       "      <td>0.0</td>\n",
       "      <td>0.0</td>\n",
       "      <td>0.0</td>\n",
       "      <td>0.0</td>\n",
       "      <td>0.0</td>\n",
       "      <td>0.0</td>\n",
       "      <td>0.0</td>\n",
       "      <td>0.0</td>\n",
       "      <td>5</td>\n",
       "    </tr>\n",
       "    <tr>\n",
       "      <th>526</th>\n",
       "      <td>0.0</td>\n",
       "      <td>0.0</td>\n",
       "      <td>0.0</td>\n",
       "      <td>0.0</td>\n",
       "      <td>0.0</td>\n",
       "      <td>0.0</td>\n",
       "      <td>0.0</td>\n",
       "      <td>0.0</td>\n",
       "      <td>0.0</td>\n",
       "      <td>0.0</td>\n",
       "      <td>...</td>\n",
       "      <td>0.0</td>\n",
       "      <td>0.0</td>\n",
       "      <td>0.0</td>\n",
       "      <td>0.0</td>\n",
       "      <td>0.0</td>\n",
       "      <td>0.0</td>\n",
       "      <td>0.0</td>\n",
       "      <td>0.0</td>\n",
       "      <td>0.0</td>\n",
       "      <td>1</td>\n",
       "    </tr>\n",
       "    <tr>\n",
       "      <th>810</th>\n",
       "      <td>0.0</td>\n",
       "      <td>0.0</td>\n",
       "      <td>0.0</td>\n",
       "      <td>0.0</td>\n",
       "      <td>0.0</td>\n",
       "      <td>0.0</td>\n",
       "      <td>0.0</td>\n",
       "      <td>0.0</td>\n",
       "      <td>0.0</td>\n",
       "      <td>0.0</td>\n",
       "      <td>...</td>\n",
       "      <td>0.0</td>\n",
       "      <td>0.0</td>\n",
       "      <td>0.0</td>\n",
       "      <td>0.0</td>\n",
       "      <td>0.0</td>\n",
       "      <td>0.0</td>\n",
       "      <td>0.0</td>\n",
       "      <td>0.0</td>\n",
       "      <td>0.0</td>\n",
       "      <td>1</td>\n",
       "    </tr>\n",
       "  </tbody>\n",
       "</table>\n",
       "<p>5 rows × 401 columns</p>\n",
       "</div>"
      ],
      "text/plain": [
       "       x1   x2   x3   x4   x5   x6   x7   x8   x9  x10 ...  x392  x393  x394  \\\n",
       "1381  0.0  0.0  0.0  0.0  0.0  0.0  0.0  0.0  0.0  0.0 ...   0.0   0.0   0.0   \n",
       "3025  0.0  0.0  0.0  0.0  0.0  0.0  0.0  0.0  0.0  0.0 ...   0.0   0.0   0.0   \n",
       "2581  0.0  0.0  0.0  0.0  0.0  0.0  0.0  0.0  0.0  0.0 ...   0.0   0.0   0.0   \n",
       "526   0.0  0.0  0.0  0.0  0.0  0.0  0.0  0.0  0.0  0.0 ...   0.0   0.0   0.0   \n",
       "810   0.0  0.0  0.0  0.0  0.0  0.0  0.0  0.0  0.0  0.0 ...   0.0   0.0   0.0   \n",
       "\n",
       "      x395  x396  x397  x398  x399  x400  y  \n",
       "1381   0.0   0.0   0.0   0.0   0.0   0.0  2  \n",
       "3025   0.0   0.0   0.0   0.0   0.0   0.0  6  \n",
       "2581   0.0   0.0   0.0   0.0   0.0   0.0  5  \n",
       "526    0.0   0.0   0.0   0.0   0.0   0.0  1  \n",
       "810    0.0   0.0   0.0   0.0   0.0   0.0  1  \n",
       "\n",
       "[5 rows x 401 columns]"
      ]
     },
     "execution_count": 3,
     "metadata": {},
     "output_type": "execute_result"
    }
   ],
   "source": [
    "# Loading data from mat to Dataframe\n",
    "m,n=mat['X'].shape\n",
    "\n",
    "data=pd.DataFrame()\n",
    "for i in range(n):\n",
    "    data[f'x{i+1}']=mat['X'].T[i]\n",
    "\n",
    "# Converting label 10 to label 0\n",
    "data['y']=mat['y']\n",
    "data.loc[data['y']==10,'y']=0\n",
    "\n",
    "print('TRAINING DATASET SHAPE : {0} X {1}'.format(*data.shape))\n",
    "data.sample(5)"
   ]
  },
  {
   "cell_type": "markdown",
   "metadata": {},
   "source": [
    "#### 1.1&nbsp;&nbsp;&nbsp;&nbsp;Visualizing the data\n",
    "\n",
    "We will begin by visualizing a subset of the training set. We will randomly select 100 rows from X. This function maps each row to a 20 X 20 pixel image and displays together."
   ]
  },
  {
   "cell_type": "code",
   "execution_count": 4,
   "metadata": {},
   "outputs": [],
   "source": [
    "def displayData(X):\n",
    "    m,n=X.shape\n",
    "    width=int(np.sqrt(n))\n",
    "    height=int(n/width)\n",
    "    rows=int(np.floor(np.sqrt(m)))\n",
    "    cols=int(np.ceil(m/rows))\n",
    "    totalWidth=cols+cols*width\n",
    "    displayArray=np.zeros((1,totalWidth))\n",
    "    rowPadding=np.ones((1,totalWidth))\n",
    "    colPadding=np.ones((height,1))\n",
    "    index=0\n",
    "    for i in range(rows):\n",
    "        row=colPadding*0\n",
    "        for j in range(cols):\n",
    "            if index<m:\n",
    "                x=X[index].reshape((width,height)).T\n",
    "                index=index+1\n",
    "            else:\n",
    "                x=np.zeros((width,height)).T\n",
    "            row=np.column_stack((row,x))\n",
    "            if j<cols-1:\n",
    "                row=np.column_stack((row,colPadding))\n",
    "        displayArray=np.row_stack((displayArray,row))\n",
    "        if i<rows-1:\n",
    "            displayArray=np.row_stack((displayArray,rowPadding))\n",
    "    displayArray=np.row_stack((displayArray,rowPadding*0))\n",
    "    plt.imshow(displayArray,cmap='gray')\n",
    "    plt.axis('off')"
   ]
  },
  {
   "cell_type": "code",
   "execution_count": 5,
   "metadata": {},
   "outputs": [
    {
     "data": {
      "image/png": "[encoded data removed]",
      "text/plain": [
       "<Figure size 432x288 with 1 Axes>"
      ]
     },
     "metadata": {
      "needs_background": "light"
     },
     "output_type": "display_data"
    }
   ],
   "source": [
    "displayData(data.sample(100).iloc[:,:-1].values)"
   ]
  },
  {
   "cell_type": "markdown",
   "metadata": {},
   "source": [
    "#### 1.2&nbsp;&nbsp;&nbsp;&nbsp;Model Representation\n",
    "\n",
    "<table>\n",
    "    <tr>\n",
    "        <td>\n",
    "            <img src=\"https://cdn-images-1.medium.com/max/1200/1*uyIJXyLOI4-ETDmcWFsKvQ.png\" width=\"300\">\n",
    "        </td>\n",
    "        <td>\n",
    "            <img src=\"http://ufldl.stanford.edu/tutorial/images/Network331.png\" width=\"300\">\n",
    "        </td>\n",
    "    </tr>\n",
    "</table>\n",
    "\n",
    "$a_i^{(j)}=$ \"activation\" of unit $i$ in layer $j$  \n",
    "$\\theta^{(j)}=$ matrix of weights controlling function mapping from layer $j$ to layer $j+1$  \n",
    "$g(z)=$ sigmoid activation function  \n",
    "\n",
    "$$ g(z)=\\frac{1}{1+e^{(-z)}} $$\n",
    "\n",
    "**If network has $s_j$ units in layer $j$, $s_{j+1}$ units in layer $j+1$, then $\\theta^{(j)}$ will be of dimension** $s_{j+1}$ X $(s_j+1)$\n",
    "\n",
    "$$ a^{(2)}_1=g(\\theta_{10}^{(1)}x_0+\\theta_{11}^{(1)}x_1+\\theta_{12}^{(1)}x_2+\\theta_{13}^{(1)}x_3) $$\n",
    "\n",
    "$$ a^{(2)}_2=g(\\theta_{20}^{(1)}x_0+\\theta_{21}^{(1)}x_1+\\theta_{22}^{(1)}x_2+\\theta_{23}^{(1)}x_3) $$\n",
    "\n",
    "$$ a^{(2)}_3=g(\\theta_{30}^{(1)}x_0+\\theta_{31}^{(1)}x_1+\\theta_{32}^{(1)}x_2+\\theta_{33}^{(1)}x_3) $$"
   ]
  },
  {
   "cell_type": "markdown",
   "metadata": {},
   "source": [
    "#### 1.3&nbsp;&nbsp;&nbsp;&nbsp;Feedforward and cost function\n",
    "\n",
    "**Feed Forward**  \n",
    "$$ z^{(i)}=\\theta^{(i-1)}a^{(i-1)} $$\n",
    "$$ a^{(i)}=g(z^{(i)}) $$\n",
    "\n",
    "**Cost function** for a Neural Network is very similar to logistic regression except that the cost is summed over all the K classes.\n",
    "\n",
    "$$ J(\\theta)=\\frac{-1}{m}\\sum_{i=1}^{m}\\sum_{k=1}^{K}[y_k^{(i)}log(h_\\theta(x^{(i)})_k)+(1-y_k^{(i)})log(1-h_\\theta(x^{(i)})_k)] $$ "
   ]
  },
  {
   "cell_type": "markdown",
   "metadata": {},
   "source": [
    "#### 1.4&nbsp;&nbsp;&nbsp;&nbsp;Regularized cost function\n",
    "\n",
    "We should not be regularizing the terms that corresponds to the bias term. For the matrices $\\theta^{(1)}$ and $\\theta^{(2)}$, this corresponds to the first column of each matrix. The cost function for neural networks with regularization is given by:\n",
    "\n",
    "$$ J(\\theta)=\\frac{-1}{m}\\sum_{i=1}^{m}\\sum_{k=1}^{K}[y_k^{(i)}log(h_\\theta(x^{(i)})_k)+(1-y_k^{(i)})log(1-h_\\theta(x^{(i)})_k)] + \\frac{\\lambda}{2m}\\sum_{l=1}^{L-1}\\sum_{i=1}^{s_{l}}\\sum_{j=1}^{s_{l}+1}(\\theta_{ij^{(l)}})^2$$ \n",
    "\n"
   ]
  },
  {
   "cell_type": "markdown",
   "metadata": {},
   "source": [
    "### 2&nbsp;&nbsp;&nbsp;&nbsp;Backpropagation\n",
    "\n",
    "In this part of the exercise , we will implement the **backpropagation algorithm to compute the gradient for the neural network cost function.** Once we have computed the gradient, we will then be able to train the neural network by minimizing the cost function $J(\\theta)$ using gradient descent."
   ]
  },
  {
   "cell_type": "markdown",
   "metadata": {},
   "source": [
    "#### 2.1&nbsp;&nbsp;&nbsp;&nbsp;Sigmoid gradient\n",
    "\n",
    "Now, let's understand the derivation for gradient of sigmoid function:\n",
    "\n",
    "$ \\frac{\\partial}{\\partial{x}}(\\frac{1}{1+e^{-z}}) = \\frac{(1+e^{-z})\\frac{\\partial{(1)}}{\\partial{x}}-1\\frac{\\partial{(1+e^{-z}})}{\\partial{}x}}{(1+e^{-z})^2} $\n",
    "\n",
    "$ \\;\\;\\;\\;\\;\\;\\;\\;\\;\\;\\;\\;\\;\\;= \\frac{e^{-z}}{(1+e^{-z})^2} $\n",
    "\n",
    "Adding & subtracting 1 from numerator,\n",
    "\n",
    "$ \\;\\;\\;\\;\\;\\;\\;\\;\\;\\;\\;\\;\\;\\;= \\frac{1+e^{-z}-1}{(1+e^{-z})^2} $\n",
    "\n",
    "$ \\;\\;\\;\\;\\;\\;\\;\\;\\;\\;\\;\\;\\;\\;= \\frac{1+e^{-z}}{(1+e^{-z})^2}-\\frac{1}{{(1+e^{-z})^2}} $\n",
    "\n",
    "$ \\;\\;\\;\\;\\;\\;\\;\\;\\;\\;\\;\\;\\;\\;= g(z)-g(z)^{(2)} $\n",
    "\n",
    "$$ \\boxed{g'(z)=g(z)(1-g(z))}\\;\\;\\;\\;\\;\\;\\;(1) $$ "
   ]
  },
  {
   "cell_type": "code",
   "execution_count": 6,
   "metadata": {},
   "outputs": [],
   "source": [
    "def sigmoid(z):\n",
    "    sigma=1/(1+np.exp(-z))\n",
    "    return sigma"
   ]
  },
  {
   "cell_type": "code",
   "execution_count": 7,
   "metadata": {},
   "outputs": [],
   "source": [
    "def sigmoidGradient(z):\n",
    "    g=np.multiply(sigmoid(z),(1-sigmoid(z)))\n",
    "    return g"
   ]
  },
  {
   "cell_type": "code",
   "execution_count": 8,
   "metadata": {},
   "outputs": [
    {
     "data": {
      "text/plain": [
       "0.25"
      ]
     },
     "execution_count": 8,
     "metadata": {},
     "output_type": "execute_result"
    }
   ],
   "source": [
    "sigmoidGradient(0)"
   ]
  },
  {
   "cell_type": "markdown",
   "metadata": {},
   "source": [
    "#### 2.2&nbsp;&nbsp;&nbsp;&nbsp;Random initialization\n",
    "\n",
    "When training neural networks, it is important to randomly initialize the parameters for symmetry breaking. One effective strategy for random initialization is to randomly select values for $\\theta^{(l)}$ uniformly in the range of $[-\\epsilon_{init},+\\epsilon_{init}]$\n",
    "\n",
    "$$ \\epsilon_{init}=\\frac{\\sqrt{6}}{\\sqrt{L_{in}+L_{out}}} $$\n",
    "\n",
    ",where $L_{in}$ & $L_{out}$ are the number of neurons in input and output layer respectively. This range of values ensures that the parameters are kept small and makes the learning more efficeint.\n",
    "\n",
    "**Note : Parameters should not be initialized to zero because they will remain zero for all iterations.**"
   ]
  },
  {
   "cell_type": "code",
   "execution_count": 9,
   "metadata": {},
   "outputs": [],
   "source": [
    "def randInitializeWeights(lIn,lOut):\n",
    "    '''Randomly initialize the weights with a matix of shape lOut X (lIn+1)'''\n",
    "    epsilonInit=np.sqrt(6)/np.sqrt(lIn+lOut)\n",
    "    W=np.random.rand(lOut,lIn+1)*2*epsilonInit-epsilonInit\n",
    "    return W"
   ]
  },
  {
   "cell_type": "code",
   "execution_count": 23,
   "metadata": {},
   "outputs": [
    {
     "data": {
      "image/png": "[encoded data removed]",
      "text/plain": [
       "<Figure size 432x288 with 1 Axes>"
      ]
     },
     "metadata": {
      "needs_background": "light"
     },
     "output_type": "display_data"
    }
   ],
   "source": [
    "lIn=400\n",
    "lOut=10\n",
    "\n",
    "w=randInitializeWeights(lIn,lOut).reshape(-1).tolist()\n",
    "sns.distplot(w,kde=False);"
   ]
  },
  {
   "cell_type": "markdown",
   "metadata": {},
   "source": [
    "#### 2.3&nbsp;&nbsp;&nbsp;&nbsp;Backpropagation\n",
    "\n",
    "Given an input $X$, output $h_{\\theta}(x)$ is determined by $\\theta^{(1)}$, $\\theta^{(2)}$, $\\theta^{(3)}$ ... $\\theta^{(n)}$. To reduce the error $J(\\theta)$ we have to change the weights $\\theta_i$ using gradient descent update rule. For the update rule we would need to compute gradient using backpropagation alogrithm.\n",
    "\n",
    "$$ \\theta^{(l)}=\\theta^{(l)}-\\alpha\\frac{\\partial{J}}{\\partial{\\theta^{(l)}}} $$\n",
    "\n",
    "<img src=\"http://ufldl.stanford.edu/tutorial/images/Network3322.png\" width=\"400\">\n",
    "\n",
    "**Mathematical derivation** \n",
    "\n",
    "For a neural network, we can say that the **change in $J(\\theta)$ $w.r.t$ $\\theta$ results from a change in $z$ (sum of the product of input and parameter) which in turn changes $a$ (activation) which eventually changes $J$**. This relationship for an above neural network can be written as a chain rule in calculus like this :\n",
    "\n",
    "$ \\frac{\\partial{J}}{\\partial{\\theta^{(3)}}} = \\frac{\\partial{J}}{\\partial{a^{(4)}}}\\frac{\\partial{a^{(4)}}}{\\partial{z^{(4)}}}\\frac{\\partial{z^{(4)}}}{\\partial{\\theta^{(3)}}} $  \n",
    "\n",
    "Replacing $\\frac{\\partial{J}}{\\partial{a^{(4)}}}=(a^{(4)}-y)$ and $z^{(4)}$ and $a^{(4)}$ using feed forward expressions, we get\n",
    "\n",
    "$ \\;\\;\\;\\;\\;\\;\\;=(a^{(4)}-y)\\frac{\\partial{g(z^{(4)})}}{\\partial{z^{(4)}}}\\frac{\\partial{(\\theta^{(3)}a^{(3)}})}{\\partial{\\theta^{(3)}}} $\n",
    "\n",
    "$ \\;\\;\\;\\;\\;\\;\\;=(a^{(4)}-y)g'(z^{(4)})a^{(3)} $\n",
    "\n",
    "$ \\boxed{\\frac{\\partial{J}}{\\partial{\\theta^{(3)}}} =\\delta^{(4)}a^{(3)}} \\;\\;\\;\\;\\;\\;\\;$ where,  $\\boxed{\\delta^{(4)}=(a^{(4)}-y)g'(z^{(4)})}\\;\\;\\;\\;\\;\\;\\; $ (2) & (3)\n",
    "\n",
    "Similarly, computing\n",
    "\n",
    "$ \\frac{\\partial{J}}{\\partial{\\theta^{(2)}}} = \\frac{\\partial{J}}{\\partial{a^{(4)}}}\\frac{\\partial{a^{(4)}}}{\\partial{z^{(4)}}}\\frac{\\partial{z^{(4)}}}{\\partial{a^{(3)}}}\\frac{\\partial{a^{(3)}}}{\\partial{z^{(3)}}}\\frac{\\partial{z^{(3)}}}{\\partial{\\theta^{(2)}}} $  \n",
    "\n",
    "Using equation (2) & (3)\n",
    "\n",
    "$ \\;\\;\\;\\;\\;\\;\\;=(a^{(4)}-y)g'(z^{(4)})\\frac{\\partial{(\\theta^{(3)}a^{(3)}})}{\\partial{a^{(3)}}}\\frac{\\partial{g(z^{(3)})}}{\\partial{z^{(3)}}}\\frac{\\partial{(\\theta^{(2)}a^{(2)}})}{\\partial{\\theta^{(2)}}} $\n",
    "\n",
    "$ \\;\\;\\;\\;\\;\\;\\;=(a^{(4)}-y)g'(z^{(4)})\\theta^{(3)}g'(z^{(3)})a^{(2)} $\n",
    "\n",
    "$ \\;\\;\\;\\;\\;\\;\\;=\\delta^{(4)}\\theta^{(3)}g'(z^{(3)})a^{(2)} $\n",
    "\n",
    "$ \\boxed{\\frac{\\partial{J}}{\\partial{\\theta^{(2)}}} =\\delta^{(3)}a^{(2)}} \\;\\;\\;\\;\\;\\;\\;$ where,  $\\boxed{\\delta^{(3)}=\\theta^{(3)}\\delta^{(4)}g'(z^{(3)})}\\;\\;\\;\\;\\;\\;\\; $ (4) & (5)\n",
    "\n",
    "Similarly, computing for \n",
    "\n",
    "$ \\frac{\\partial{J}}{\\partial{\\theta^{(1)}}} = \\frac{\\partial{J}}{\\partial{a^{(4)}}}\\frac{\\partial{a^{(4)}}}{\\partial{z^{(4)}}}\\frac{\\partial{z^{(4)}}}{\\partial{a^{(3)}}}\\frac{\\partial{a^{(3)}}}{\\partial{z^{(3)}}}\\frac{\\partial{z^{(3)}}}{\\partial{a^{(2)}}}\\frac{\\partial{a^{(2)}}}{\\partial{z^{(2)}}}\\frac{\\partial{z^{(2)}}}{\\partial{\\theta^{(1)}}} $  \n",
    "\n",
    "Using equation (2),(3),(4) & (5)\n",
    "\n",
    "$ \\;\\;\\;\\;\\;\\;\\;=(a^{(4)}-y)g'(z^{(4)})\\theta^{(3)}g'(z^{(3)})\\frac{\\partial{(\\theta^{(2)}a^{(2)}})}{\\partial{a^{(2)}}}\\frac{\\partial{g(z^{(2)})}}{\\partial{z^{(2)}}}\\frac{\\partial{(\\theta^{(1)}a^{(1)})}}{\\partial{\\theta^{(1)}}} $\n",
    "\n",
    "$ \\;\\;\\;\\;\\;\\;\\;=(a^{(4)}-y)g'(z^{(4)})\\theta^{(3)}g'(z^{(3)})\\theta^{(2)}g'(z^{(2)})a^{(1)} $\n",
    "\n",
    "$ \\;\\;\\;\\;\\;\\;\\;=\\delta^{(4)}\\theta^{(3)}g'(z^{(3)})\\theta^{(2)}g'(z^{(2)})a^{(1)} $\n",
    "\n",
    "$ \\;\\;\\;\\;\\;\\;\\;=\\delta^{(3)}\\theta^{(2)}g'(z^{(2)})a^{(1)} $\n",
    "\n",
    "$ \\boxed{\\frac{\\partial{J}}{\\partial{\\theta^{(1)}}} =\\delta^{(2)}a^{(1)}} \\;\\;\\;\\;\\;\\;\\;$ where,  $\\boxed{\\delta^{(2)}=\\theta^{(2)}\\delta^{(3)}g'(z^{(2)})}\\;\\;\\;\\;\\;\\;\\; $ (6) & (7)\n",
    "\n",
    "From equation (1) & (3), we can conclude that the **'error' in output layer** is\n",
    "> For Cross Entropy Function\n",
    "$$ \\boxed{\\delta^L=(a^L-y)} $$\n",
    "For Least Square Function\n",
    "$$ \\boxed{\\delta^L=(a^L-y)(a^L)(1-a^L)} $$\n",
    "\n",
    "From equation (1),(5) & (7), we can conclude that **'error' in hidden layers** is \n",
    "\n",
    "$$ \\boxed{\\delta^{(i)}=\\theta^{(i)}\\delta^{(i+1)}a^{(i)}(1-a^{(i)})} $$\n",
    "\n",
    "From (2),(4) and (6), we can conclude that the **gradient** is \n",
    "$$ \\boxed{\\frac{\\partial{J}}{\\partial{\\theta^{(i)}}}=\\delta^{(i+1)}a^{(i)}} $$"
   ]
  },
  {
   "cell_type": "markdown",
   "metadata": {},
   "source": [
    "**Backpropagation Algorithm Steps**\n",
    "\n",
    "Training Set $\\{(x^{(1)},y{(1)}),...,(x^{(m)},y{(m)})\\}$  \n",
    "\n",
    "Set $\\Delta_{ij}^{(l)}=0$ (for all $l,i,j$)  \n",
    "\n",
    "For $i=1$ to $m$\n",
    "\n",
    "* Set $a^{(1)}=x^{(i)}$\n",
    "* Perform forward propagation to compute $a^{(l)}$ for $l=2,3,...,L$\n",
    "* Using $y^{(i)}$, compute $\\delta^{(L)}=a^{(L)}-y^{(i)}$\n",
    "* Compute $\\delta^{(L-1)},\\delta^{(L-2)},...,\\delta^{(2)}$\n",
    "* $\\Delta_{ij}^{(l)}:=\\Delta_{ij}^{(l)}+a_j^{(l)}\\delta_i^{(l+1)}$\n",
    "\n",
    "$D_{ij}^{(l)}:=\\frac{1}{m}(\\Delta_{ij}^{(l)}+\\lambda\\theta_{ij}^{(l)})$ if $j\\neq0$  \n",
    "\n",
    "$D_{ij}^{(l)}:=\\frac{1}{m}(\\Delta_{ij}^{(l)})$ if $j=0$\n",
    "\n",
    "$ \\boxed{\\frac{\\partial}{\\partial{\\theta_{ij}^{(l)}}}J(\\theta)=D_{ij}^{(l)}} $\n",
    "\n",
    "**Notes**\n",
    "1. error ($\\delta$) for input layer and bias node (neuron) is not calculated.\n",
    "2. 'For loop' can be avoided by using Matrix Algebra."
   ]
  },
  {
   "cell_type": "code",
   "execution_count": 11,
   "metadata": {},
   "outputs": [],
   "source": [
    "def computeCost(X,y,params,inputLayerSize,hiddenLayerSize,lmbda):\n",
    "    '''Computes the cost and the gradient using backpropagation for a 2 layered neural network'''\n",
    "    m,n=X.shape\n",
    "    numLabels=y.shape[1]\n",
    "    # Reshape params into theta1 and theta2 matrices\n",
    "    theta1=params[:,:hiddenLayerSize*(inputLayerSize+1)].reshape((hiddenLayerSize,inputLayerSize+1))\n",
    "    theta2=params[:,hiddenLayerSize*(inputLayerSize+1):].reshape((numLabels,hiddenLayerSize+1))\n",
    "    # Feed Forward Propogation\n",
    "    a1=np.column_stack((np.ones(m),X))\n",
    "    z2=np.dot(a1,theta1.T)\n",
    "    a2=sigmoid(z2)\n",
    "    a2=np.column_stack((np.ones(shape=(a2.shape[0],1)),a2))\n",
    "    z3=np.dot(a2,theta2.T)\n",
    "    a3=sigmoid(z3)\n",
    "    h=a3\n",
    "    # Computing cost\n",
    "    J=(-1/m)*np.sum(np.multiply(y,np.log(h))+np.multiply(1-y,np.log(1-h)))\n",
    "    # Adding regularization term\n",
    "    J=J+(lmbda/(2*m))*(np.sum(np.power(theta1[:,1:],2))+np.sum(np.power(theta2[:,1:],2)))\n",
    "    # Backpropagation\n",
    "    # Calculating error for hidden and output layer\n",
    "    delta3=h-y\n",
    "    delta2=np.multiply(np.dot(delta3,theta2),np.multiply(a2,1-a2))[:,1:]\n",
    "    # Calculating Gradient\n",
    "    D2=np.dot(delta3.T,a2)\n",
    "    D1=np.dot(delta2.T,a1)\n",
    "    # Adding regularization term\n",
    "    grad2=(1/m)*D2+(lmbda/m)*np.column_stack((np.zeros((theta2.shape[0],1)),theta2[:,1:]))\n",
    "    grad1=(1/m)*D1+(lmbda/m)*np.column_stack((np.zeros((theta1.shape[0],1)),theta1[:,1:]))\n",
    "    # Unroll gradients into one vector\n",
    "    grad=grad1.reshape((1,-1))\n",
    "    grad=np.column_stack((grad,grad2.reshape((1,-1))))\n",
    "    return J,grad"
   ]
  },
  {
   "cell_type": "markdown",
   "metadata": {},
   "source": [
    "**Calculating cost function for a neural network using the loaded set of parameters for $\\theta^{(1)}$ and $\\theta^{(2)}$**  \n",
    "\n",
    "The neural network we are about to use has 3 layers - an input layer ($L_1$), a hidden layer ($L_2$) and an output layer ($L_3$). \n",
    "* L1 layer has 400 Neuron units (20 X 20 pixel image) excluding the extra bias unit that always output +1\n",
    "* L2 layer has 25 Neuron units\n",
    "* L3 layer has 10 Neuron Units"
   ]
  },
  {
   "cell_type": "code",
   "execution_count": 12,
   "metadata": {},
   "outputs": [
    {
     "name": "stdout",
     "output_type": "stream",
     "text": [
      "X : (5000, 400)\n",
      "y : (5000, 10)\n",
      "Theta1 : (25, 401)\n",
      "Theta2 : (10, 26)\n"
     ]
    }
   ],
   "source": [
    "X=mat['X']\n",
    "# One-hot encoding of target variable\n",
    "y=pd.get_dummies(mat['y'].reshape(m)).values\n",
    "\n",
    "# Loading weights\n",
    "weights=loadmat('./ex4weights.mat')\n",
    "theta1=weights['Theta1']\n",
    "theta2=weights['Theta2']\n",
    "params=theta1.reshape((1,-1))\n",
    "params=np.column_stack((params,theta2.reshape((1,-1))))\n",
    "\n",
    "inputLayerSize=400\n",
    "hiddenLayerSize=25\n",
    "\n",
    "print(f'X : {X.shape}')\n",
    "print(f'y : {y.shape}')\n",
    "print(f'Theta1 : {theta1.shape}')\n",
    "print(f'Theta2 : {theta2.shape}')"
   ]
  },
  {
   "cell_type": "code",
   "execution_count": 13,
   "metadata": {},
   "outputs": [
    {
     "name": "stdout",
     "output_type": "stream",
     "text": [
      "COST : 0.2876\n"
     ]
    }
   ],
   "source": [
    "lmbda=0\n",
    "J,grad=computeCost(X,y,params,inputLayerSize,hiddenLayerSize,lmbda)\n",
    "print(f'COST : {J:.4f}')"
   ]
  },
  {
   "cell_type": "code",
   "execution_count": 14,
   "metadata": {
    "scrolled": true
   },
   "outputs": [
    {
     "name": "stdout",
     "output_type": "stream",
     "text": [
      "COST (with regularization): 0.3838\n"
     ]
    }
   ],
   "source": [
    "lmbda=1\n",
    "J,grad=computeCost(X,y,params,inputLayerSize,hiddenLayerSize,lmbda)\n",
    "print(f'COST (with regularization): {J:.4f}')"
   ]
  },
  {
   "cell_type": "markdown",
   "metadata": {},
   "source": [
    "#### 2.4&nbsp;&nbsp;&nbsp;&nbsp;Gradient checking\n",
    "\n",
    "In our neural network we are minimizing $J(\\theta)$. To perform gradient check, we can calculate the numerical gradient of $J(\\theta)$ between two points ($\\theta+\\epsilon$,$J(\\theta+\\epsilon)$) and ($\\theta-\\epsilon$,$J(\\theta-\\epsilon)$) using two point slope formuale : $m=\\frac{y_2-y_1}{x_2-x_1}$\n",
    "\n",
    "$$ \\frac{\\partial}{\\partial{\\theta}}J(\\theta) \\approx \\frac{J(\\theta+\\epsilon)-J(\\theta-\\epsilon)}{2\\epsilon}$$\n",
    "\n",
    "And then, we can compare the numerical gradient with the gradient calculated using backpropagation algorithm. The degree to which these 2 values should approximate each other is atleast 4 significant digits."
   ]
  },
  {
   "cell_type": "code",
   "execution_count": 15,
   "metadata": {},
   "outputs": [],
   "source": [
    "def computeNumericalGradient(J,theta):\n",
    "    '''Computes the numerical gradient using two point slope equation'''\n",
    "    numGrad=np.zeros(theta.shape)\n",
    "    perturb=np.zeros(theta.shape)\n",
    "    epsilon=1e-4\n",
    "    for i in range(theta.size):\n",
    "        perturb[:,i]=epsilon\n",
    "        numGrad[:,i]=(J(theta+perturb)-J(theta-perturb))/(2*epsilon)\n",
    "        perturb[:,i]=0\n",
    "    return numGrad"
   ]
  },
  {
   "cell_type": "code",
   "execution_count": 16,
   "metadata": {},
   "outputs": [],
   "source": [
    "def checkNNGradients(lmbda):\n",
    "    '''Creates a small neural network to check the backpropagation gradients'''\n",
    "    inputLayerSize=3\n",
    "    hiddenLayerSize=5\n",
    "    numLabels=3\n",
    "    m=50\n",
    "    # Generating some random test data\n",
    "    theta1=randInitializeWeights(hiddenLayerSize,inputLayerSize)\n",
    "    theta2=randInitializeWeights(numLabels,hiddenLayerSize)\n",
    "    X=randInitializeWeights(inputLayerSize-1,m)\n",
    "    y=1+np.mod(range(m),numLabels)\n",
    "    # One-hot encoding target variable\n",
    "    y=pd.get_dummies(y.reshape(m)).values\n",
    "    # Unroll into vector\n",
    "    thetas=theta1.reshape((1,-1))\n",
    "    thetas=np.column_stack((thetas,theta2.reshape((1,-1))))\n",
    "    # Gradient from backpropagation\n",
    "    J,grad=computeCost(X,y,thetas,inputLayerSize,hiddenLayerSize,lmbda)\n",
    "    # Computing numerical gradient\n",
    "    def cost(thetas):\n",
    "        J,grad=computeCost(X,y,thetas,inputLayerSize,hiddenLayerSize,lmbda)\n",
    "        return J\n",
    "    numGrad=computeNumericalGradient(cost,thetas)\n",
    "    # Evaluating the norm of the differences between two solution\n",
    "    diff=np.linalg.norm(numGrad-grad)/np.linalg.norm(numGrad+grad)\n",
    "    return grad,numGrad,diff"
   ]
  },
  {
   "cell_type": "markdown",
   "metadata": {},
   "source": [
    "Evaluating the norm of the difference between two solutions. If we have a correct implementation, then diff below should be less than 1e-9."
   ]
  },
  {
   "cell_type": "code",
   "execution_count": 17,
   "metadata": {},
   "outputs": [
    {
     "name": "stdout",
     "output_type": "stream",
     "text": [
      "DIFFERENCE : 1.6126605887271788e-10\n"
     ]
    },
    {
     "data": {
      "text/html": [
       "<div>\n",
       "<style scoped>\n",
       "    .dataframe tbody tr th:only-of-type {\n",
       "        vertical-align: middle;\n",
       "    }\n",
       "\n",
       "    .dataframe tbody tr th {\n",
       "        vertical-align: top;\n",
       "    }\n",
       "\n",
       "    .dataframe thead th {\n",
       "        text-align: right;\n",
       "    }\n",
       "</style>\n",
       "<table border=\"1\" class=\"dataframe\">\n",
       "  <thead>\n",
       "    <tr style=\"text-align: right;\">\n",
       "      <th></th>\n",
       "      <th>grad (Backprop)</th>\n",
       "      <th>grad (numerical)</th>\n",
       "    </tr>\n",
       "  </thead>\n",
       "  <tbody>\n",
       "    <tr>\n",
       "      <th>0</th>\n",
       "      <td>0.138493</td>\n",
       "      <td>0.138493</td>\n",
       "    </tr>\n",
       "    <tr>\n",
       "      <th>1</th>\n",
       "      <td>-0.005591</td>\n",
       "      <td>-0.005591</td>\n",
       "    </tr>\n",
       "    <tr>\n",
       "      <th>2</th>\n",
       "      <td>-0.006795</td>\n",
       "      <td>-0.006795</td>\n",
       "    </tr>\n",
       "    <tr>\n",
       "      <th>3</th>\n",
       "      <td>-0.004914</td>\n",
       "      <td>-0.004914</td>\n",
       "    </tr>\n",
       "    <tr>\n",
       "      <th>4</th>\n",
       "      <td>0.033305</td>\n",
       "      <td>0.033305</td>\n",
       "    </tr>\n",
       "    <tr>\n",
       "      <th>5</th>\n",
       "      <td>-0.000034</td>\n",
       "      <td>-0.000034</td>\n",
       "    </tr>\n",
       "    <tr>\n",
       "      <th>6</th>\n",
       "      <td>0.002502</td>\n",
       "      <td>0.002502</td>\n",
       "    </tr>\n",
       "    <tr>\n",
       "      <th>7</th>\n",
       "      <td>-0.004358</td>\n",
       "      <td>-0.004358</td>\n",
       "    </tr>\n",
       "    <tr>\n",
       "      <th>8</th>\n",
       "      <td>0.089864</td>\n",
       "      <td>0.089864</td>\n",
       "    </tr>\n",
       "    <tr>\n",
       "      <th>9</th>\n",
       "      <td>-0.006544</td>\n",
       "      <td>-0.006544</td>\n",
       "    </tr>\n",
       "    <tr>\n",
       "      <th>10</th>\n",
       "      <td>-0.005275</td>\n",
       "      <td>-0.005275</td>\n",
       "    </tr>\n",
       "    <tr>\n",
       "      <th>11</th>\n",
       "      <td>0.001236</td>\n",
       "      <td>0.001236</td>\n",
       "    </tr>\n",
       "    <tr>\n",
       "      <th>12</th>\n",
       "      <td>0.007592</td>\n",
       "      <td>0.007592</td>\n",
       "    </tr>\n",
       "    <tr>\n",
       "      <th>13</th>\n",
       "      <td>0.000573</td>\n",
       "      <td>0.000573</td>\n",
       "    </tr>\n",
       "    <tr>\n",
       "      <th>14</th>\n",
       "      <td>0.001843</td>\n",
       "      <td>0.001843</td>\n",
       "    </tr>\n",
       "    <tr>\n",
       "      <th>15</th>\n",
       "      <td>-0.002482</td>\n",
       "      <td>-0.002482</td>\n",
       "    </tr>\n",
       "    <tr>\n",
       "      <th>16</th>\n",
       "      <td>0.018063</td>\n",
       "      <td>0.018063</td>\n",
       "    </tr>\n",
       "    <tr>\n",
       "      <th>17</th>\n",
       "      <td>-0.002424</td>\n",
       "      <td>-0.002424</td>\n",
       "    </tr>\n",
       "    <tr>\n",
       "      <th>18</th>\n",
       "      <td>-0.003313</td>\n",
       "      <td>-0.003313</td>\n",
       "    </tr>\n",
       "    <tr>\n",
       "      <th>19</th>\n",
       "      <td>0.002985</td>\n",
       "      <td>0.002985</td>\n",
       "    </tr>\n",
       "    <tr>\n",
       "      <th>20</th>\n",
       "      <td>0.311245</td>\n",
       "      <td>0.311245</td>\n",
       "    </tr>\n",
       "    <tr>\n",
       "      <th>21</th>\n",
       "      <td>0.176612</td>\n",
       "      <td>0.176612</td>\n",
       "    </tr>\n",
       "    <tr>\n",
       "      <th>22</th>\n",
       "      <td>0.114836</td>\n",
       "      <td>0.114836</td>\n",
       "    </tr>\n",
       "    <tr>\n",
       "      <th>23</th>\n",
       "      <td>0.196726</td>\n",
       "      <td>0.196726</td>\n",
       "    </tr>\n",
       "    <tr>\n",
       "      <th>24</th>\n",
       "      <td>0.096902</td>\n",
       "      <td>0.096902</td>\n",
       "    </tr>\n",
       "    <tr>\n",
       "      <th>25</th>\n",
       "      <td>0.209181</td>\n",
       "      <td>0.209181</td>\n",
       "    </tr>\n",
       "    <tr>\n",
       "      <th>26</th>\n",
       "      <td>0.481930</td>\n",
       "      <td>0.481930</td>\n",
       "    </tr>\n",
       "    <tr>\n",
       "      <th>27</th>\n",
       "      <td>0.273451</td>\n",
       "      <td>0.273451</td>\n",
       "    </tr>\n",
       "    <tr>\n",
       "      <th>28</th>\n",
       "      <td>0.184182</td>\n",
       "      <td>0.184182</td>\n",
       "    </tr>\n",
       "    <tr>\n",
       "      <th>29</th>\n",
       "      <td>0.305789</td>\n",
       "      <td>0.305789</td>\n",
       "    </tr>\n",
       "    <tr>\n",
       "      <th>30</th>\n",
       "      <td>0.144334</td>\n",
       "      <td>0.144334</td>\n",
       "    </tr>\n",
       "    <tr>\n",
       "      <th>31</th>\n",
       "      <td>0.331735</td>\n",
       "      <td>0.331735</td>\n",
       "    </tr>\n",
       "    <tr>\n",
       "      <th>32</th>\n",
       "      <td>-0.002657</td>\n",
       "      <td>-0.002657</td>\n",
       "    </tr>\n",
       "    <tr>\n",
       "      <th>33</th>\n",
       "      <td>-0.002497</td>\n",
       "      <td>-0.002497</td>\n",
       "    </tr>\n",
       "    <tr>\n",
       "      <th>34</th>\n",
       "      <td>0.000709</td>\n",
       "      <td>0.000709</td>\n",
       "    </tr>\n",
       "    <tr>\n",
       "      <th>35</th>\n",
       "      <td>0.000277</td>\n",
       "      <td>0.000277</td>\n",
       "    </tr>\n",
       "    <tr>\n",
       "      <th>36</th>\n",
       "      <td>-0.002649</td>\n",
       "      <td>-0.002649</td>\n",
       "    </tr>\n",
       "    <tr>\n",
       "      <th>37</th>\n",
       "      <td>0.000809</td>\n",
       "      <td>0.000809</td>\n",
       "    </tr>\n",
       "  </tbody>\n",
       "</table>\n",
       "</div>"
      ],
      "text/plain": [
       "    grad (Backprop)  grad (numerical)\n",
       "0          0.138493          0.138493\n",
       "1         -0.005591         -0.005591\n",
       "2         -0.006795         -0.006795\n",
       "3         -0.004914         -0.004914\n",
       "4          0.033305          0.033305\n",
       "5         -0.000034         -0.000034\n",
       "6          0.002502          0.002502\n",
       "7         -0.004358         -0.004358\n",
       "8          0.089864          0.089864\n",
       "9         -0.006544         -0.006544\n",
       "10        -0.005275         -0.005275\n",
       "11         0.001236          0.001236\n",
       "12         0.007592          0.007592\n",
       "13         0.000573          0.000573\n",
       "14         0.001843          0.001843\n",
       "15        -0.002482         -0.002482\n",
       "16         0.018063          0.018063\n",
       "17        -0.002424         -0.002424\n",
       "18        -0.003313         -0.003313\n",
       "19         0.002985          0.002985\n",
       "20         0.311245          0.311245\n",
       "21         0.176612          0.176612\n",
       "22         0.114836          0.114836\n",
       "23         0.196726          0.196726\n",
       "24         0.096902          0.096902\n",
       "25         0.209181          0.209181\n",
       "26         0.481930          0.481930\n",
       "27         0.273451          0.273451\n",
       "28         0.184182          0.184182\n",
       "29         0.305789          0.305789\n",
       "30         0.144334          0.144334\n",
       "31         0.331735          0.331735\n",
       "32        -0.002657         -0.002657\n",
       "33        -0.002497         -0.002497\n",
       "34         0.000709          0.000709\n",
       "35         0.000277          0.000277\n",
       "36        -0.002649         -0.002649\n",
       "37         0.000809          0.000809"
      ]
     },
     "execution_count": 17,
     "metadata": {},
     "output_type": "execute_result"
    }
   ],
   "source": [
    "grad,numGrad,diff=checkNNGradients(0)\n",
    "print(f'DIFFERENCE : {diff}')\n",
    "pd.DataFrame(data={'grad (Backprop)':grad.reshape(-1),'grad (numerical)':numGrad.reshape(-1)})"
   ]
  },
  {
   "cell_type": "markdown",
   "metadata": {},
   "source": [
    "#### 2.5&nbsp;&nbsp;&nbsp;&nbsp;Regularized Neural Networks\n",
    "\n",
    "After we have computed gradient using backpropagation, we should add regularization using  \n",
    "\n",
    "$ \\frac{\\partial}{\\partial{\\theta_{ij}^{(l)}}}J(\\theta)=D_{ij}^{(l)}:=\\frac{1}{m}(\\Delta_{ij}^{(l)}+\\lambda\\theta_{ij}^{(l)})$ if $j\\neq0 $  \n",
    "\n",
    "$ \\frac{\\partial}{\\partial{\\theta_{ij}^{(l)}}}J(\\theta)=D_{ij}^{(l)}:=\\frac{1}{m}(\\Delta_{ij}^{(l)})$ if $j=0 $\n",
    "\n",
    "Note that we should not be regularizing the first column of $\\theta^{(l)}$ which is used for the bias term.$"
   ]
  },
  {
   "cell_type": "markdown",
   "metadata": {},
   "source": [
    "#### 2.6&nbsp;&nbsp;&nbsp;&nbsp;Learning Parameters\n",
    "\n",
    "NN Terminologies :\n",
    "\n",
    "* **Epoch** : one forward pass and one backward pass of all the training examples.\n",
    "* **Batch Size** : the number of training examples in one forward/backward pass. The higher the batch size, the more memory space you'll need.\n",
    "* **# Iterations** : number of passes, each pass using batch size number of examples. To be clear, one pass = one forward pass + one backward pass.\n",
    "\n",
    "In this part of the exercise, we will initialize our parameters randomly and train the neural network using gradient descent. There are three variants for Gradient Descent Algorithm listed below :\n",
    "\n",
    "1. **Batch Gradient Descent** : In this variant, all the data is passed through the network. Gradients are calculated for the whole dataset to perform just one update. That means for one epoch, only 1 update occurs. This method is slower but accurate.\n",
    "\n",
    "\n",
    "2. **Stochastic Gradient Descent** : Here, weights are updated after passing each data which means if our dataset has 1000 samples, one thousand updates will happen. This method is much faster but not that accurate.\n",
    "\n",
    "\n",
    "3. **Mini-batch Gradient Descent** : This last variant tries to find a trade-off between the above two approaches. Here, we specify a batch size and we will update the weights after passing the data samples in each batch, means the gradients are calculated after passing each batch. Suppose we have dataset with 1000 records and we have specified a batch size of 100 data sample. In this case we will have 10 weight updates for each epoch. This method is more accurate than the second approach and much faster than the first approach."
   ]
  },
  {
   "cell_type": "code",
   "execution_count": 18,
   "metadata": {},
   "outputs": [],
   "source": [
    "def gradientDescent(data,inputLayerSize,hiddenLayerSize,alpha,lmbda,epoch,batchSize):\n",
    "    # Shuffling data to obtain a less biased estimation of the true gradient\n",
    "    data=data.sample(frac=1)\n",
    "    X=data.values[:,:-1]\n",
    "    y=pd.get_dummies(data['y']).values\n",
    "    m=X.shape[0]\n",
    "    # Calculating iterations\n",
    "    iterations=int(m/batchSize) if (m%batchSize==0) else int(m/batchSize)+1\n",
    "    # Initializing parameters randomly\n",
    "    labels=y.shape[1]\n",
    "    theta1=randInitializeWeights(inputLayerSize,hiddenLayerSize)\n",
    "    theta2=randInitializeWeights(hiddenLayerSize,labels)\n",
    "    jHistory=[]\n",
    "    for i in range(epoch):\n",
    "        for j in range(iterations):\n",
    "            # Setting start and end\n",
    "            start=j*batchSize\n",
    "            end=start+batchSize\n",
    "            end=m if end>m else end\n",
    "            # Unrolling into one vector\n",
    "            params=theta1.reshape((1,-1))\n",
    "            params=np.column_stack((params,theta2.reshape((1,-1))))\n",
    "            # Computing cost and gradient\n",
    "            J,grad=computeCost(X[start:end,:],y[start:end,:],params,inputLayerSize,hiddenLayerSize,lmbda)\n",
    "            # Unrolling vector into grad matrices\n",
    "            grad1=grad[:,:hiddenLayerSize*(inputLayerSize+1)].reshape((hiddenLayerSize,inputLayerSize+1))\n",
    "            grad2=grad[:,hiddenLayerSize*(inputLayerSize+1):].reshape((labels,hiddenLayerSize+1))\n",
    "            # Update rule\n",
    "            theta1=theta1-alpha*grad1\n",
    "            theta2=theta2-alpha*grad2\n",
    "            jHistory.append(J)    \n",
    "            print(f'EPOCH : {i+1}\\tITERATIONS : {j+1}\\t\\tCOST : {J:.3f}',end='\\r')\n",
    "    df=pd.DataFrame({'Total Iterations':range(epoch*iterations),'Cost Function':jHistory})\n",
    "    sns.lineplot(data=df,x='Total Iterations',y='Cost Function');\n",
    "    return theta1,theta2"
   ]
  },
  {
   "cell_type": "code",
   "execution_count": 19,
   "metadata": {},
   "outputs": [],
   "source": [
    "def predictNN(theta1,theta2,X):\n",
    "    '''Predict the label of an input given a trained neural network'''\n",
    "    m,n=X.shape\n",
    "    # Feed Forward Propogation\n",
    "    a1=np.column_stack((np.ones(m),X))\n",
    "    z2=np.dot(a1,theta1.T)\n",
    "    a2=sigmoid(z2)\n",
    "    a2=np.column_stack((np.ones(shape=(a2.shape[0],1)),a2))\n",
    "    z3=np.dot(a2,theta2.T)\n",
    "    a3=sigmoid(z3)\n",
    "    h=a3\n",
    "    labels=h.argmax(axis=1)\n",
    "    return labels.reshape((m,1))"
   ]
  },
  {
   "cell_type": "code",
   "execution_count": 20,
   "metadata": {},
   "outputs": [],
   "source": [
    "def calculateAccuracy(h,y):\n",
    "    '''Calculates the accuray between the target and prediction'''\n",
    "    m=y.shape[0]\n",
    "    unique,counts=np.unique(h==y,return_counts=True)\n",
    "    dic=dict(zip(unique,counts))\n",
    "    accuracy=(dic[True]/m)*100\n",
    "    return accuracy"
   ]
  },
  {
   "cell_type": "markdown",
   "metadata": {},
   "source": [
    "##### Training Neural Network\n",
    "\n",
    "Optimization Alogrithm - Batch Gradient Descent"
   ]
  },
  {
   "cell_type": "code",
   "execution_count": 21,
   "metadata": {},
   "outputs": [
    {
     "name": "stdout",
     "output_type": "stream",
     "text": [
      "EPOCH : 3000\tITERATIONS : 1\t\tCOST : 0.362\r"
     ]
    },
    {
     "data": {
      "image/png": "[encoded data removed]",
      "text/plain": [
       "<Figure size 432x288 with 1 Axes>"
      ]
     },
     "metadata": {
      "needs_background": "light"
     },
     "output_type": "display_data"
    }
   ],
   "source": [
    "inputLayerSize=400\n",
    "hiddenLayerSize=25\n",
    "\n",
    "alpha=1\n",
    "lmbda=1\n",
    "\n",
    "epoch=3000\n",
    "batchSize=5000\n",
    "\n",
    "theta1,theta2=gradientDescent(data,inputLayerSize,hiddenLayerSize,alpha,lmbda,epoch,batchSize)"
   ]
  },
  {
   "cell_type": "markdown",
   "metadata": {},
   "source": [
    "##### Calculating training accuracy"
   ]
  },
  {
   "cell_type": "code",
   "execution_count": 22,
   "metadata": {},
   "outputs": [
    {
     "name": "stdout",
     "output_type": "stream",
     "text": [
      "TRAINING ACCURACY : 98.000%\n"
     ]
    }
   ],
   "source": [
    "h=predictNN(theta1,theta2,data.values[:,:-1])\n",
    "accuracy=calculateAccuracy(h,data['y'].values.reshape((-1,1)))\n",
    "print(f'TRAINING ACCURACY : {accuracy:.3f}%')"
   ]
  }
 ],
 "metadata": {
  "kernelspec": {
   "display_name": "Python 3",
   "language": "python",
   "name": "python3"
  },
  "language_info": {
   "codemirror_mode": {
    "name": "ipython",
    "version": 3
   },
   "file_extension": ".py",
   "mimetype": "text/x-python",
   "name": "python",
   "nbconvert_exporter": "python",
   "pygments_lexer": "ipython3",
   "version": "3.7.1"
  }
 },
 "nbformat": 4,
 "nbformat_minor": 2
}
