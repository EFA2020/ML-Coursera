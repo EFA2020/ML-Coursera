{
 "cells": [
  {
   "cell_type": "markdown",
   "metadata": {},
   "source": [
    "## Programming Exercise 2: Logistic Regression\n",
    "#### Author - Rishabh Jain"
   ]
  },
  {
   "cell_type": "code",
   "execution_count": 34,
   "metadata": {},
   "outputs": [],
   "source": [
    "import matplotlib.pyplot as plt\n",
    "import seaborn as sns\n",
    "import pandas as pd\n",
    "import numpy as np\n",
    "%matplotlib inline"
   ]
  },
  {
   "cell_type": "markdown",
   "metadata": {},
   "source": [
    "### 1&nbsp;&nbsp;&nbsp;&nbsp;Logistic Regression\n",
    "In this part of the exercise, we will build a logistic regression model to predict whether the student gets admitted into a university.  \n",
    "\n",
    "Suppose that we are the adminstrator of a department and want to determine each applicant's chance of admission based on their results in two exams. We have hisotrical data from previous applicants that we can use as a training set for logistic regression. For each applicant, we have their scores in two exams and their admission decision.\n",
    "\n",
    "Our task is to build a classification model that estimates an applicant's probability of admission based on the score from those two exams."
   ]
  },
  {
   "cell_type": "code",
   "execution_count": 35,
   "metadata": {},
   "outputs": [
    {
     "name": "stdout",
     "output_type": "stream",
     "text": [
      "TRAINING DATASET SHAPE : 100 X 3\n"
     ]
    },
    {
     "data": {
      "text/html": [
       "<div>\n",
       "<style scoped>\n",
       "    .dataframe tbody tr th:only-of-type {\n",
       "        vertical-align: middle;\n",
       "    }\n",
       "\n",
       "    .dataframe tbody tr th {\n",
       "        vertical-align: top;\n",
       "    }\n",
       "\n",
       "    .dataframe thead th {\n",
       "        text-align: right;\n",
       "    }\n",
       "</style>\n",
       "<table border=\"1\" class=\"dataframe\">\n",
       "  <thead>\n",
       "    <tr style=\"text-align: right;\">\n",
       "      <th></th>\n",
       "      <th>exam1</th>\n",
       "      <th>exam2</th>\n",
       "      <th>decision</th>\n",
       "    </tr>\n",
       "  </thead>\n",
       "  <tbody>\n",
       "    <tr>\n",
       "      <th>0</th>\n",
       "      <td>34.623660</td>\n",
       "      <td>78.024693</td>\n",
       "      <td>0</td>\n",
       "    </tr>\n",
       "    <tr>\n",
       "      <th>1</th>\n",
       "      <td>30.286711</td>\n",
       "      <td>43.894998</td>\n",
       "      <td>0</td>\n",
       "    </tr>\n",
       "    <tr>\n",
       "      <th>2</th>\n",
       "      <td>35.847409</td>\n",
       "      <td>72.902198</td>\n",
       "      <td>0</td>\n",
       "    </tr>\n",
       "    <tr>\n",
       "      <th>3</th>\n",
       "      <td>60.182599</td>\n",
       "      <td>86.308552</td>\n",
       "      <td>1</td>\n",
       "    </tr>\n",
       "    <tr>\n",
       "      <th>4</th>\n",
       "      <td>79.032736</td>\n",
       "      <td>75.344376</td>\n",
       "      <td>1</td>\n",
       "    </tr>\n",
       "  </tbody>\n",
       "</table>\n",
       "</div>"
      ],
      "text/plain": [
       "       exam1      exam2  decision\n",
       "0  34.623660  78.024693         0\n",
       "1  30.286711  43.894998         0\n",
       "2  35.847409  72.902198         0\n",
       "3  60.182599  86.308552         1\n",
       "4  79.032736  75.344376         1"
      ]
     },
     "execution_count": 35,
     "metadata": {},
     "output_type": "execute_result"
    }
   ],
   "source": [
    "data=pd.read_csv('./ex2data1.csv')\n",
    "print(f'TRAINING DATASET SHAPE : {data.shape[0]} X {data.shape[1]}')\n",
    "data.head()"
   ]
  },
  {
   "cell_type": "markdown",
   "metadata": {},
   "source": [
    "#### 1.1&nbsp;&nbsp;&nbsp;&nbsp;Visualizing the data\n",
    "Before starting to implement any learning algorithms, it is always good to visualize the data if possible."
   ]
  },
  {
   "cell_type": "code",
   "execution_count": 36,
   "metadata": {
    "scrolled": true
   },
   "outputs": [
    {
     "data": {
      "image/png": "[encoded data removed]",
      "text/plain": [
       "<Figure size 432x288 with 1 Axes>"
      ]
     },
     "metadata": {
      "needs_background": "light"
     },
     "output_type": "display_data"
    }
   ],
   "source": [
    "sns.scatterplot(x='exam1',y='exam2',data=data[data['decision']==0],label='Not Admitted');\n",
    "sns.scatterplot(x='exam1',y='exam2',data=data[data['decision']==1],label='Admitted');"
   ]
  },
  {
   "cell_type": "markdown",
   "metadata": {},
   "source": [
    "#### 1.2&nbsp;&nbsp;&nbsp;&nbsp;Implementation\n",
    "We will add another dimension to the Design Matrix to accomodate the $\\theta_0$ intercept term. We will also initialize the fitting parameters to 0."
   ]
  },
  {
   "cell_type": "code",
   "execution_count": 46,
   "metadata": {},
   "outputs": [
    {
     "data": {
      "text/plain": [
       "(100, 3)"
      ]
     },
     "execution_count": 46,
     "metadata": {},
     "output_type": "execute_result"
    }
   ],
   "source": [
    "m=data.shape[0]\n",
    "X=np.ones(shape=(m,3))\n",
    "X[:,1:]=data.values[:,:2]\n",
    "X.shape"
   ]
  },
  {
   "cell_type": "code",
   "execution_count": 49,
   "metadata": {},
   "outputs": [
    {
     "data": {
      "text/plain": [
       "(100, 1)"
      ]
     },
     "execution_count": 49,
     "metadata": {},
     "output_type": "execute_result"
    }
   ],
   "source": [
    "y=data.values[:,2]\n",
    "y=y[:,np.newaxis]\n",
    "y.shape"
   ]
  },
  {
   "cell_type": "code",
   "execution_count": 62,
   "metadata": {},
   "outputs": [
    {
     "data": {
      "text/plain": [
       "(1, 3)"
      ]
     },
     "execution_count": 62,
     "metadata": {},
     "output_type": "execute_result"
    }
   ],
   "source": [
    "alpha=0.1\n",
    "iterations=1500\n",
    "theta=np.zeros(shape=(1,3))\n",
    "theta.shape"
   ]
  },
  {
   "cell_type": "markdown",
   "metadata": {},
   "source": [
    "##### 1.2.1&nbsp;&nbsp;&nbsp;&nbsp;Sigmoid/Logistic Function\n",
    "\n",
    "Before starting with the implementation, let's try to understand the sigmoid function.  \n",
    "For large positive values of $x$, sigmoid function is close to 1, while for large negative values, sigmoid function is close to 0. And sigmoid of 0 is exactly 0.5 .\n",
    "\n",
    "$$ \\sigma(x)=\\frac{1}{1+e^{-x}} $$"
   ]
  },
  {
   "cell_type": "code",
   "execution_count": 37,
   "metadata": {},
   "outputs": [],
   "source": [
    "def sigmoid(z):\n",
    "    sigma=1/(1+np.exp(-z))\n",
    "    return sigma"
   ]
  },
  {
   "cell_type": "code",
   "execution_count": 38,
   "metadata": {},
   "outputs": [
    {
     "data": {
      "image/png": "[encoded data removed]",
      "text/plain": [
       "<Figure size 432x288 with 1 Axes>"
      ]
     },
     "metadata": {
      "needs_background": "light"
     },
     "output_type": "display_data"
    }
   ],
   "source": [
    "df=pd.DataFrame({'X':np.linspace(-10,10,100)})\n",
    "df['Y']=sigmoid(df['X'])\n",
    "sns.lineplot(x='X',y='Y',data=df,label='SIGMOID CURVE');"
   ]
  },
  {
   "cell_type": "markdown",
   "metadata": {},
   "source": [
    "###### Model Representation\n",
    "\n",
    "The hypothesis in Linear Regression (i.e. $h_\\theta(x)=\\theta^Tx$) cannot be used for the classification problems because the linear hypothesis output ranges from $-\\infty$ to $\\infty$, whereas $y$ (i.e. target variable) in classification problems are either 0 or 1. Hence the range of hypothesis output in Logistic Regression should be:\n",
    "\n",
    "$$ 0\\le h_\\theta(x) \\le 1 $$\n",
    "\n",
    "In order to keep $h_\\theta(x)$ in the range mentioned above, Sigmoid Function comes to rescue:\n",
    "\n",
    "$$ h_\\theta(x)=g(\\theta^Tx) $$\n",
    "$$ g(z)=\\frac{1}{1+e^{-z}} $$\n",
    "\n"
   ]
  },
  {
   "cell_type": "code",
   "execution_count": 39,
   "metadata": {},
   "outputs": [],
   "source": [
    "def predict(X,theta):\n",
    "    '''Predicts by applying logistic function on linear model'''\n",
    "    z=np.dot(X,theta.T)\n",
    "    h=sigmoid(z)\n",
    "    return h"
   ]
  },
  {
   "cell_type": "markdown",
   "metadata": {},
   "source": [
    "##### 1.2.2&nbsp;&nbsp;&nbsp;&nbsp;Cost function\n",
    "We learnt about the cost function $J(\\theta)$ in **Linear Regression**, the cost function represents the optimization objective i.e. we create a cost function and minimize it to develope an accurate model with minimum error.\n",
    "$$ J(\\theta)=\\frac{1}{2m}\\sum_{i=0}^m(h_\\theta(x^{(i)})-y^{(i)})^2 $$  \n",
    "On replacing $h_\\theta(x)$ with $\\frac{1}{1+e^{(-\\theta^Tx)}}$ in the above equation,it becomes '**Non Convex**' which does not guarrante to converge and find the global minimum. So we need a new cost function for Logistic Regression.  \n",
    "\n",
    "<img src='https://d3ansictanv2wj.cloudfront.net/convex-non-convex-9c8cb9320d4b0392c5f67004e8832e85.jpg' width='500'>\n",
    "\n",
    "The figure in left is a '**Convex**' function and has only one minimum called global minimum and will always converage whereas the figure in right is a '**Non Convex**' function and has mutiple minimums also called local minimums. And there is no guarrante that the non convex function will always converge.\n",
    "\n",
    "For **Logistic Regression** cost function is defined as:  \n",
    "$$ Cost(h_\\theta(x),y)=\\left\\{\\begin{array}{1}-log(h_\\theta(x))\\;\\;\\;\\;\\;\\;\\;\\;\\;if\\;y=1\\\\-log(1-h_\\theta(x))\\;\\;\\;if\\;y=0\\end{array}\\right. $$\n",
    "\n",
    "Lets try to understand the cost function.  \n",
    "\n",
    "For $y=1$\n",
    "- $J(\\theta)\\approx\\infty$ if $h_\\theta(x)\\approx0$ (Penalty for wrong prediction)\n",
    "- $J(\\theta)\\approx0$ if $h_\\theta(x)\\approx1$  \n",
    "\n",
    "For $y=0$\n",
    "- $J(\\theta)\\approx\\infty$ if $h_\\theta(x)\\approx1$ (Penalty for wrong prediction)\n",
    "- $J(\\theta)\\approx0$ if $h_\\theta(x)\\approx0$  "
   ]
  },
  {
   "cell_type": "code",
   "execution_count": 40,
   "metadata": {},
   "outputs": [
    {
     "data": {
      "image/png": "[encoded data removed]",
      "text/plain": [
       "<Figure size 432x288 with 1 Axes>"
      ]
     },
     "metadata": {
      "needs_background": "light"
     },
     "output_type": "display_data"
    }
   ],
   "source": [
    "# In Logistic Regression, 0<h(x)<1 \n",
    "df=pd.DataFrame({'h':np.linspace(0.01,0.99,100)})\n",
    "df['Cost_1']=-np.log(df['h'])\n",
    "df['Cost_0']=-np.log(1-df['h'])\n",
    "sns.lineplot(x='h',y='Cost_0',data=df,label='y=0');\n",
    "sns.lineplot(x='h',y='Cost_1',data=df,label='y=1');"
   ]
  },
  {
   "cell_type": "markdown",
   "metadata": {},
   "source": [
    "From the above graph and the set of equations, we can see that this new cost function captures the intuition of penalizing the learning algorithm by a very large cost if predictions are not even remotely close. Combinig both the equations, **Cost function of Logistic Regression** also called **Cross Entropy function** looks like this:\n",
    "\n",
    "$$ J(\\theta)= \\frac{-1}{m}\\sum_{i=0}^m[y^{(i)}log(h_\\theta(x^{(i)}))+(1-y^{(i)})log(1-h_\\theta(x^{(i)})]$$"
   ]
  },
  {
   "cell_type": "code",
   "execution_count": 33,
   "metadata": {},
   "outputs": [],
   "source": [
    "def computeCost(h,y):\n",
    "    '''Computes the cost using Cross Entropy function'''\n",
    "    m=y.shape[0]\n",
    "    J=(-1/m)*np.sum(np.multiply(y,np.log(h))+np.multiply(1-y,np.log(1-h)))\n",
    "    return J"
   ]
  },
  {
   "cell_type": "code",
   "execution_count": 51,
   "metadata": {},
   "outputs": [
    {
     "data": {
      "text/plain": [
       "0.6931471805599453"
      ]
     },
     "execution_count": 51,
     "metadata": {},
     "output_type": "execute_result"
    }
   ],
   "source": [
    "h=predict(X,theta)\n",
    "computeCost(h,y)"
   ]
  },
  {
   "cell_type": "markdown",
   "metadata": {},
   "source": [
    "##### 1.2.3&nbsp;&nbsp;&nbsp;&nbsp;Learning Parameters\n",
    "\n",
    "**Gradient Descent Optimization** :\n",
    "$$ \\theta_j := \\theta_j - \\alpha \\frac{\\partial}{\\partial \\theta_j}J(\\theta) $$"
   ]
  },
  {
   "cell_type": "markdown",
   "metadata": {},
   "source": [
    "Lets calculate the $\\frac{\\partial}{\\partial \\theta_j}J(\\theta)$ for Logistic Regression cost function.  \n",
    "\n",
    "$ log(h_\\theta(x))=log(\\frac{1}{1+e^{-\\theta^Tx}})=-log(1+e^{-\\theta^Tx})\\;\\;\\;\\;\\; (1) $  \n",
    "$ log(1-h_\\theta(x))=log(1-\\frac{1}{1+e^{-\\theta^Tx}})=log(\\frac{e^{-\\theta^Tx}}{1+e^{-\\theta^Tx}})=log(e^{-\\theta^Tx})-log(\\frac{1}{1+e^{-\\theta^Tx}})=-\\theta^Tx-log(1+e^{-\\theta^Tx})\\;\\;\\;\\;\\; (2) $\n",
    "\n",
    "Replacing $(1)$ and $(2)$ in $J(\\theta)$,\n",
    "\n",
    "$ J(\\theta)=\\frac{-1}{m}\\sum_{i=0}^m[-y^i(log(1+e^{(-\\theta^Tx^i)}))+(1-y^i)(-\\theta^Tx^i-log(1+e^{-\\theta^Tx^i}))] $\n",
    "\n",
    "$ \\;\\;\\;\\;\\;\\;\\;=\\frac{-1}{m}\\sum_{i=0}^m[-y^ilog(1+e^{-\\theta^Tx^i})-\\theta^Tx^i-log(1+e^{-\\theta^Tx^i})+y^i\\theta^Tx^i+y^ilog(1+e^{-\\theta^Tx^i})] $\n",
    "\n",
    "$ \\;\\;\\;\\;\\;\\;\\;=\\frac{-1}{m}\\sum_{i=0}^m[y^i\\theta^Tx^i-(log(e^{\\theta^Tx^i})+log(1+e^{-\\theta^Tx^i}))]\\;\\;\\;\\;\\;(using\\; m=log(e^m)) $\n",
    "\n",
    "$ \\;\\;\\;\\;\\;\\;\\;=\\frac{-1}{m}\\sum_{i=0}^m[y^i\\theta^Tx^i-log(1+e^{\\theta^Tx^i})]\\;\\;\\;\\;\\;(using\\; log(m)+log(n)=log(mn)) $\n",
    "\n",
    "$ \\frac{\\partial}{\\partial \\theta}(J(\\theta))=\\frac{-1}{m}\\sum_{i=0}^m[\\frac{\\partial}{\\partial \\theta}(y^i\\theta^Tx^i)-\\frac{\\partial}{\\partial \\theta}(log(1+e^{\\theta^Tx^i}))] $\n",
    "\n",
    "$ \\;\\;\\;\\;\\;\\;\\;\\;\\;\\;\\;\\;=\\frac{-1}{m}\\sum_{i=0}^m[y^ix^i-\\frac{1.e^{\\theta^Tx^i}.x^i}{1+e^{\\theta^Tx^i}}]\\;\\;\\;\\;\\;(using\\;\\frac{d}{dx}(uv)=u.\\frac{dv}{dx}+v.\\frac{du}{dx}) $\n",
    "\n",
    "$ \\;\\;\\;\\;\\;\\;\\;\\;\\;\\;\\;\\;=\\frac{-1}{m}\\sum_{i=0}^m[y^ix^i-\\frac{x^i}{\\frac{1+e^{\\theta^Tx^i}}{e^{\\theta^Tx^i}}}] $\n",
    "\n",
    "$ \\;\\;\\;\\;\\;\\;\\;\\;\\;\\;\\;\\;=\\frac{-1}{m}\\sum_{i=0}^m[y^ix^i-\\frac{x^i}{1+e^{-\\theta^Tx^i}}] $\n",
    "\n",
    "$ \\;\\;\\;\\;\\;\\;\\;\\;\\;\\;\\;\\;=\\frac{1}{m}\\sum_{i=0}^m(h_\\theta(x^i)-y^i)x^i\\;\\;\\;\\;\\; (3) $\n",
    "\n",
    "Replacing $(3)$ in update rule:\n",
    "\n",
    "$$ \\theta_j:=\\theta_j-\\alpha\\frac{1}{m}\\sum_{i=0}^m(h_\\theta(x^{(i)})-y^{(i)})x_j^{(i)} $$\n",
    "\n",
    "As we can see that the Gradient Descent update rule remains same even though the underlying cost function has changed."
   ]
  }
 ],
 "metadata": {
  "kernelspec": {
   "display_name": "Python 3",
   "language": "python",
   "name": "python3"
  },
  "language_info": {
   "codemirror_mode": {
    "name": "ipython",
    "version": 3
   },
   "file_extension": ".py",
   "mimetype": "text/x-python",
   "name": "python",
   "nbconvert_exporter": "python",
   "pygments_lexer": "ipython3",
   "version": "3.7.1"
  }
 },
 "nbformat": 4,
 "nbformat_minor": 2
}
